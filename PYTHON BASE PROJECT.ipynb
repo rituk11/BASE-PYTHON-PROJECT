{
 "cells": [
  {
   "cell_type": "markdown",
   "id": "bd6f6d7c-a0fa-4371-9ac0-ad1e6de363f8",
   "metadata": {},
   "source": [
    "# PYTHON BASE PROJECT"
   ]
  },
  {
   "cell_type": "markdown",
   "id": "bd7de744-80b9-4bdb-bee4-58af4316c7af",
   "metadata": {},
   "source": [
    "## PYTHON PARADIGMS ##"
   ]
  },
  {
   "cell_type": "code",
   "execution_count": null,
   "id": "173edfb0-0b95-44b9-a2bc-f9e5139eb9de",
   "metadata": {},
   "outputs": [],
   "source": [
    "Question 1: Bank Account Management\n",
    "Create a Python class BankAccount with the following features:"
   ]
  },
  {
   "cell_type": "code",
   "execution_count": null,
   "id": "f0ba5d18-be0a-4319-b618-af56cff01baa",
   "metadata": {},
   "outputs": [],
   "source": [
    "class BankAccount:\n",
    "    def __init__(self, account_number, account_holder, balance=0):\n",
    "        self.account_number = account_number\n",
    "        self.account_holder = account_holder\n",
    "        self.balance = balance\n",
    "    \n",
    "    def deposit(self, amount):\n",
    "        if amount > 0:\n",
    "            self.balance += amount\n",
    "            print(f\"Deposited ${amount}. Current balance: ${self.balance}\")\n",
    "        else:\n",
    "            print(\"Deposit amount must be greater than zero.\")\n",
    "    \n",
    "    def withdraw(self, amount):\n",
    "        if amount > 0:\n",
    "            if self.balance >= amount:\n",
    "                self.balance -= amount\n",
    "                print(f\"Withdrew ${amount}. Current balance: ${self.balance}\")\n",
    "            else:\n",
    "                print(\"Insufficient balance.\")\n",
    "        else:\n",
    "            print(\"Withdrawal amount must be greater than zero.\")\n",
    "    \n",
    "    def display_balance(self):\n",
    "        print(f\"Account Number: {self.account_number}\")\n",
    "        print(f\"Account Holder: {self.account_holder}\")\n",
    "        print(f\"Current Balance: ${self.balance}\")\n",
    "\n",
    "# Example usage:\n",
    "acct1 = BankAccount(\"12345\", \"Alice\")\n",
    "acct1.deposit(1000)\n",
    "acct1.withdraw(500)\n",
    "acct1.display_balance()\n"
   ]
  },
  {
   "cell_type": "code",
   "execution_count": null,
   "id": "a4e8614b-6fe6-4878-a2fd-8a95c5d335a6",
   "metadata": {},
   "outputs": [],
   "source": [
    "# Functional Programming"
   ]
  },
  {
   "cell_type": "code",
   "execution_count": null,
   "id": "4ba8630f-32c3-4bee-a1ee-73adb2daafcc",
   "metadata": {},
   "outputs": [],
   "source": [
    "Question 2: Mapping and Filtering\n",
    "Write Python functions to perform the following operations using functional programming techniques:"
   ]
  },
  {
   "cell_type": "code",
   "execution_count": null,
   "id": "8b150ff8-93c8-4a25-9723-ae1b5b9f3949",
   "metadata": {},
   "outputs": [],
   "source": [
    "# Mapping example\n",
    "def double_numbers(numbers):\n",
    "    return list(map(lambda x: x * 2, numbers))\n",
    "\n",
    "# Filtering example\n",
    "def filter_even(numbers):\n",
    "    return list(filter(lambda x: x % 2 == 0, numbers))\n",
    "\n",
    "# Example usage:\n",
    "numbers = [1, 2, 3, 4, 5, 6, 7, 8, 9, 10]\n",
    "\n",
    "# Mapping example\n",
    "doubled = double_numbers(numbers)\n",
    "print(\"Doubled numbers:\", doubled)  # Output: [2, 4, 6, 8, 10, 12, 14, 16, 18, 20]\n",
    "\n",
    "# Filtering example\n",
    "even_numbers = filter_even(numbers)\n",
    "print(\"Even numbers:\", even_numbers)  # Output: [2, 4, 6, 8, 10]\n"
   ]
  },
  {
   "cell_type": "code",
   "execution_count": null,
   "id": "92f8ca19-57be-4609-b116-98d04ca5423d",
   "metadata": {},
   "outputs": [],
   "source": [
    "# Procedural Programming"
   ]
  },
  {
   "cell_type": "code",
   "execution_count": null,
   "id": "b44d4523-824f-4bd1-a214-2c621f635841",
   "metadata": {},
   "outputs": [],
   "source": [
    "Question 3: \n",
    "Write a Python script that reads integers from a file named numbers.txt, calculates their average, and prints the result.\n"
   ]
  },
  {
   "cell_type": "code",
   "execution_count": 3,
   "id": "f8f05365-f022-46d9-8a37-a2ecfa30d5ea",
   "metadata": {},
   "outputs": [
    {
     "name": "stdout",
     "output_type": "stream",
     "text": [
      "File 'numbers.txt' not found.\n"
     ]
    }
   ],
   "source": [
    "def calculate_average(filename):\n",
    "    try:\n",
    "        with open(filename, 'r') as file:\n",
    "            numbers = file.readlines()\n",
    "            # Convert lines to integers\n",
    "            numbers = [int(num.strip()) for num in numbers]\n",
    "            \n",
    "            if len(numbers) == 0:\n",
    "                print(\"File is empty. Cannot calculate average.\")\n",
    "                return\n",
    "            \n",
    "            # Calculate average\n",
    "            average = sum(numbers) / len(numbers)\n",
    "            \n",
    "            print(f\"Average of numbers in {filename}: {average}\")\n",
    "    \n",
    "    except FileNotFoundError:\n",
    "        print(f\"File '{filename}' not found.\")\n",
    "    \n",
    "    except ValueError as e:\n",
    "        print(f\"Error: {e}. Ensure all lines in the file contain valid integers.\")\n",
    "\n",
    "# Example usage:\n",
    "calculate_average('numbers.txt')"
   ]
  },
  {
   "cell_type": "code",
   "execution_count": null,
   "id": "9ad7af37-9971-4c6b-ade6-c2f3e2cc9b15",
   "metadata": {},
   "outputs": [],
   "source": [
    "# Question 4 \n",
    "Create a Python script that reads a list of words from a file, filters out words that start with a vowel (a, e, i, o, u), and prints the filtered list."
   ]
  },
  {
   "cell_type": "code",
   "execution_count": 4,
   "id": "26a62a09-948c-4aca-a64c-a48a4afaf925",
   "metadata": {},
   "outputs": [
    {
     "name": "stdout",
     "output_type": "stream",
     "text": [
      "File 'words.txt' not found.\n"
     ]
    }
   ],
   "source": [
    "def filter_words(filename):\n",
    "    vowels = ['a', 'e', 'i', 'o', 'u']\n",
    "    filtered_words = []\n",
    "\n",
    "    try:\n",
    "        with open(filename, 'r') as file:\n",
    "            words = file.read().split()\n",
    "            \n",
    "            # Filter out words starting with vowels\n",
    "            filtered_words = [word for word in words if word[0].lower() not in vowels]\n",
    "            \n",
    "            print(\"Original list of words:\")\n",
    "            print(words)\n",
    "            \n",
    "            print(\"\\nFiltered list (words not starting with a vowel):\")\n",
    "            print(filtered_words)\n",
    "    \n",
    "    except FileNotFoundError:\n",
    "        print(f\"File '{filename}' not found.\")\n",
    "    \n",
    "    except Exception as e:\n",
    "        print(f\"Error occurred: {e}\")\n",
    "\n",
    "# Example usage:\n",
    "filter_words('words.txt')\n"
   ]
  },
  {
   "cell_type": "code",
   "execution_count": null,
   "id": "011d5e7a-d353-4363-82e1-41ef05a5c105",
   "metadata": {},
   "outputs": [],
   "source": [
    "# Question 5\n",
    "Write a Python function calculate_factorial(n) using functional programming principles to calculate the factorial of a number n."
   ]
  },
  {
   "cell_type": "code",
   "execution_count": 5,
   "id": "fb49945c-b94f-40e6-b125-c079e6123139",
   "metadata": {},
   "outputs": [
    {
     "name": "stdout",
     "output_type": "stream",
     "text": [
      "The factorial of 5 is: 120\n"
     ]
    }
   ],
   "source": [
    "def calculate_factorial(n):\n",
    "    if n == 0:\n",
    "        return 1\n",
    "    else:\n",
    "        return n * calculate_factorial(n - 1)\n",
    "\n",
    "# Test the function\n",
    "num = 5\n",
    "factorial = calculate_factorial(num)\n",
    "print(f\"The factorial of {num} is: {factorial}\")\n"
   ]
  },
  {
   "cell_type": "code",
   "execution_count": null,
   "id": "fabb47d4-01d0-4941-ab5e-4c535f6b01dc",
   "metadata": {},
   "outputs": [],
   "source": [
    "*******************************************************************************************************************"
   ]
  },
  {
   "cell_type": "markdown",
   "id": "7ddac3c6-f52b-4e2d-9ade-cbd841b2c4dc",
   "metadata": {},
   "source": [
    "# DATA TYPES OF PYTHON ###"
   ]
  },
  {
   "cell_type": "code",
   "execution_count": null,
   "id": "a0e5d05c-5580-4ca9-b7d8-7cc74bbedf34",
   "metadata": {},
   "outputs": [],
   "source": [
    "# Question1\n",
    "Write a Python script that reads a text file (data.txt) containing various types of data (integers, floats, strings) separated by commas. Analyze the data and perform the following tasks:"
   ]
  },
  {
   "cell_type": "code",
   "execution_count": 7,
   "id": "f1cfd4ad-7cf9-4c4e-a608-5b67c4596adc",
   "metadata": {},
   "outputs": [
    {
     "name": "stdout",
     "output_type": "stream",
     "text": [
      "File 'data.txt' not found.\n"
     ]
    }
   ],
   "source": [
    "def analyze_data(filename):\n",
    "    int_count = 0\n",
    "    float_count = 0\n",
    "    string_count = 0\n",
    "    total_integers = 0\n",
    "    total_floats = 0\n",
    "    total_string_length = 0\n",
    "\n",
    "    try:\n",
    "        with open(filename, 'r') as file:\n",
    "            data = file.read().strip().split(',')\n",
    "            \n",
    "            for item in data:\n",
    "                item = item.strip()\n",
    "                if item.isdigit():\n",
    "                    int_count += 1\n",
    "                    total_integers += int(item)\n",
    "                elif '.' in item and all(part.isdigit() for part in item.split('.')):\n",
    "                    float_count += 1\n",
    "                    total_floats += float(item)\n",
    "                else:\n",
    "                    string_count += 1\n",
    "                    total_string_length += len(item)\n",
    "            \n",
    "            avg_string_length = total_string_length / string_count if string_count > 0 else 0\n",
    "            \n",
    "            print(f\"Number of integers: {int_count}\")\n",
    "            print(f\"Number of floats: {float_count}\")\n",
    "            print(f\"Number of strings: {string_count}\")\n",
    "            print(f\"Sum of all integers: {total_integers}\")\n",
    "            print(f\"Sum of all floats: {total_floats}\")\n",
    "            print(f\"Average length of strings: {avg_string_length:.2f} characters\")\n",
    "    \n",
    "    except FileNotFoundError:\n",
    "        print(f\"File '{filename}' not found.\")\n",
    "    \n",
    "    except Exception as e:\n",
    "        print(f\"Error occurred: {e}\")\n",
    "\n",
    "# Example usage:\n",
    "analyze_data('data.txt')\n"
   ]
  },
  {
   "cell_type": "code",
   "execution_count": null,
   "id": "d9c13dee-7487-41a8-8183-d56bf8912ae7",
   "metadata": {},
   "outputs": [],
   "source": [
    "#Question 2: Set Operations\n",
    "Write a Python script that performs various operations on sets:\n",
    "*Create two sets of integers, set1 and set2, with some common elements.\n",
    "*Implement the following operations and print the results:\n",
    "Union of set1 and set2.\n",
    "Intersection of set1 and set2.\n",
    "Difference between set1 and set2 (set1 - set2).\n",
    "Symmetric difference between set1 and set2 (set1 ^ set2).\n",
    "Check if set2 is a subset of set1.\n",
    "Check if set1 is a superset of set2.\n",
    "Add an element to set1.\n",
    "Remove an element from set2.\n",
    "Clear all elements from set2.\n"
   ]
  },
  {
   "cell_type": "code",
   "execution_count": 8,
   "id": "a6c4df50-3039-465d-8f63-e704487c74e5",
   "metadata": {},
   "outputs": [
    {
     "name": "stdout",
     "output_type": "stream",
     "text": [
      "Union of set1 and set2: {1, 2, 3, 4, 5, 6, 7}\n",
      "Intersection of set1 and set2: {3, 4, 5}\n",
      "Difference of set1 - set2: {1, 2}\n",
      "Symmetric Difference of set1 and set2: {1, 2, 6, 7}\n",
      "Is set2 a subset of set1? False\n",
      "Is set1 a superset of set2? False\n",
      "After adding element to set1: {1, 2, 3, 4, 5, 6}\n",
      "After removing element from set2: {3, 4, 5, 7}\n",
      "After clearing set2: set()\n"
     ]
    }
   ],
   "source": [
    "def set_operations():\n",
    "    set1 = {1, 2, 3, 4, 5}\n",
    "    set2 = {3, 4, 5, 6, 7}\n",
    "    \n",
    "    # Union\n",
    "    union_set = set1 | set2\n",
    "    print(f\"Union of set1 and set2: {union_set}\")\n",
    "    \n",
    "    # Intersection\n",
    "    intersection_set = set1 & set2\n",
    "    print(f\"Intersection of set1 and set2: {intersection_set}\")\n",
    "    \n",
    "    # Difference (set1 - set2)\n",
    "    difference_set = set1 - set2\n",
    "    print(f\"Difference of set1 - set2: {difference_set}\")\n",
    "    \n",
    "    # Symmetric Difference (set1 ^ set2)\n",
    "    symmetric_difference_set = set1 ^ set2\n",
    "    print(f\"Symmetric Difference of set1 and set2: {symmetric_difference_set}\")\n",
    "    \n",
    "    # Subset and Superset\n",
    "    is_subset = set2.issubset(set1)\n",
    "    print(f\"Is set2 a subset of set1? {is_subset}\")\n",
    "    \n",
    "    is_superset = set1.issuperset(set2)\n",
    "    print(f\"Is set1 a superset of set2? {is_superset}\")\n",
    "    \n",
    "    # Add element to set1\n",
    "    set1.add(6)\n",
    "    print(f\"After adding element to set1: {set1}\")\n",
    "    \n",
    "    # Remove element from set2\n",
    "    if 6 in set2:\n",
    "        set2.remove(6)\n",
    "    print(f\"After removing element from set2: {set2}\")\n",
    "    \n",
    "    # Clear set2\n",
    "    set2.clear()\n",
    "    print(f\"After clearing set2: {set2}\")\n",
    "\n",
    "# Example usage:\n",
    "set_operations()\n"
   ]
  },
  {
   "cell_type": "code",
   "execution_count": null,
   "id": "6d205a5d-3591-4366-91c2-c36f733b451c",
   "metadata": {},
   "outputs": [],
   "source": [
    "# Boolean Operations: "
   ]
  },
  {
   "cell_type": "code",
   "execution_count": null,
   "id": "1de53e28-c42a-44fb-a86f-973d491debc2",
   "metadata": {},
   "outputs": [],
   "source": [
    "Checking Conditions:\n",
    "#QUESTION 3: Write a Python function that takes two integers as input and returns True if their sum is greater than 10, otherwise False."
   ]
  },
  {
   "cell_type": "code",
   "execution_count": 1,
   "id": "84e36bf0-c42e-46de-941d-064ae8e51ffd",
   "metadata": {},
   "outputs": [
    {
     "name": "stdout",
     "output_type": "stream",
     "text": [
      "The sum of 5 and 7 is greater than 10: True\n",
      "The sum of 3 and 4 is greater than 10: False\n"
     ]
    }
   ],
   "source": [
    "def sum_greater_than_10(a, b):\n",
    "    if a + b > 10:\n",
    "        return True\n",
    "    else:\n",
    "        return False\n",
    "\n",
    "# Example usage:\n",
    "num1 = 5\n",
    "num2 = 7\n",
    "result = sum_greater_than_10(num1, num2)\n",
    "print(f\"The sum of {num1} and {num2} is greater than 10: {result}\")  # Output: The sum of 5 and 7 is greater than 10: True\n",
    "\n",
    "num3 = 3\n",
    "num4 = 4\n",
    "result = sum_greater_than_10(num3, num4)\n",
    "print(f\"The sum of {num3} and {num4} is greater than 10: {result}\")  # Output: The sum of 3 and 4 is greater than 10: False\n",
    "\n"
   ]
  },
  {
   "cell_type": "code",
   "execution_count": null,
   "id": "c3e06f6b-b2cd-434e-b860-1e8bd599f023",
   "metadata": {},
   "outputs": [],
   "source": [
    "Logical Operators:\n",
    "#QUESTION 4: Write a program that asks the user for their age and checks if they are eligible to vote (age >= 18) and if they have registered to vote (registered = True)."
   ]
  },
  {
   "cell_type": "code",
   "execution_count": 2,
   "id": "7e24b7fc-f990-401d-9982-86a9aa75af71",
   "metadata": {},
   "outputs": [
    {
     "name": "stdin",
     "output_type": "stream",
     "text": [
      "Enter your age:  24\n",
      "Are you registered to vote? (yes/no):  Yes\n"
     ]
    },
    {
     "name": "stdout",
     "output_type": "stream",
     "text": [
      "You are eligible to vote!\n"
     ]
    }
   ],
   "source": [
    "def check_voter_eligibility():\n",
    "    age = int(input(\"Enter your age: \"))\n",
    "    registered = input(\"Are you registered to vote? (yes/no): \").lower() == 'yes'\n",
    "\n",
    "    if age >= 18 and registered:\n",
    "        print(\"You are eligible to vote!\")\n",
    "    else:\n",
    "        print(\"You are not eligible to vote.\")\n",
    "\n",
    "# Example usage:\n",
    "check_voter_eligibility()\n"
   ]
  },
  {
   "cell_type": "code",
   "execution_count": null,
   "id": "0ea72b1c-d6bd-4d08-8bee-b0476bd27f48",
   "metadata": {},
   "outputs": [],
   "source": [
    "#SET\n",
    "#QUESTION 5 : Set Operations:\n",
    "Write a function that takes two sets as input and returns a new set containing elements that are present in both sets."
   ]
  },
  {
   "cell_type": "code",
   "execution_count": 3,
   "id": "31156c1f-d218-40f5-8f10-438d607368c2",
   "metadata": {},
   "outputs": [
    {
     "name": "stdout",
     "output_type": "stream",
     "text": [
      "Intersection of set1 and set2: {3, 4, 5}\n"
     ]
    }
   ],
   "source": [
    "def intersection_of_sets(set1, set2):\n",
    "    return set1.intersection(set2)\n",
    "\n",
    "# Example usage:\n",
    "set1 = {1, 2, 3, 4, 5}\n",
    "set2 = {3, 4, 5, 6, 7}\n",
    "intersection_result = intersection_of_sets(set1, set2)\n",
    "print(\"Intersection of set1 and set2:\", intersection_result)\n"
   ]
  },
  {
   "cell_type": "code",
   "execution_count": null,
   "id": "e489e4a1-7387-4552-85eb-b9bdaa160c46",
   "metadata": {},
   "outputs": [],
   "source": [
    "SET COMPREHENSION\n",
    "#Question 6: Create a set comprehension that generates a set of squares of all even numbers from 1 to 10."
   ]
  },
  {
   "cell_type": "code",
   "execution_count": 4,
   "id": "d123fec4-195d-46bb-8618-475762daa68f",
   "metadata": {},
   "outputs": [
    {
     "name": "stdout",
     "output_type": "stream",
     "text": [
      "Set of squares of even numbers from 1 to 10: {64, 100, 4, 36, 16}\n"
     ]
    }
   ],
   "source": [
    "even_numbers = {x**2 for x in range(1, 11) if x % 2 == 0}\n",
    "\n",
    "print(\"Set of squares of even numbers from 1 to 10:\", even_numbers)\n"
   ]
  },
  {
   "cell_type": "code",
   "execution_count": null,
   "id": "a181a298-19d5-4db1-abc4-b3759aa3fe87",
   "metadata": {},
   "outputs": [],
   "source": [
    "# Question 7 : Generate a set of all possible tuples (x, y) where x is an even number between 1 to 5 and y is an odd number between 6 to 10."
   ]
  },
  {
   "cell_type": "code",
   "execution_count": 5,
   "id": "5f6c169c-b443-4d6f-af97-50086f32d5fd",
   "metadata": {},
   "outputs": [
    {
     "name": "stdout",
     "output_type": "stream",
     "text": [
      "Set of even-odd tuples: {(4, 9), (2, 9), (4, 7), (2, 7)}\n"
     ]
    }
   ],
   "source": [
    "even_odd_tuples = {(x, y) for x in range(2, 6, 2) for y in range(7, 11, 2)}\n",
    "print(\"Set of even-odd tuples:\", even_odd_tuples)\n"
   ]
  },
  {
   "cell_type": "code",
   "execution_count": null,
   "id": "8e692f50-48e6-456e-b00f-87332f9f7901",
   "metadata": {},
   "outputs": [],
   "source": [
    "Set Operations with Strings:\n",
    "#Question 8 : Create a function that takes a string as input and returns a set of unique characters present in the string."
   ]
  },
  {
   "cell_type": "code",
   "execution_count": 6,
   "id": "c9949042-5b84-4515-b573-2ad7e0e322bc",
   "metadata": {},
   "outputs": [
    {
     "name": "stdout",
     "output_type": "stream",
     "text": [
      "Unique characters in the string: {'h', 'e', 'l', 'o', ' ', 'd', 'w', 'r'}\n"
     ]
    }
   ],
   "source": [
    "def unique_characters_in_string(s):\n",
    "    return {char for char in s}\n",
    "\n",
    "# Example usage:\n",
    "input_string = \"hello world\"\n",
    "unique_chars = unique_characters_in_string(input_string)\n",
    "print(\"Unique characters in the string:\", unique_chars)\n"
   ]
  },
  {
   "cell_type": "code",
   "execution_count": null,
   "id": "4fc48e59-4859-4815-b5ef-e5f846353847",
   "metadata": {},
   "outputs": [],
   "source": [
    "Set of First N Natural Numbers:\n",
    "#Question 9 : Write a set comprehension that generates a set of the first 10 natural numbers."
   ]
  },
  {
   "cell_type": "code",
   "execution_count": 7,
   "id": "2b7b1286-a058-4b3f-8ec6-d148ba3eeafb",
   "metadata": {},
   "outputs": [
    {
     "name": "stdout",
     "output_type": "stream",
     "text": [
      "First ten natural numbers: {1, 2, 3, 4, 5, 6, 7, 8, 9, 10}\n"
     ]
    }
   ],
   "source": [
    "first_ten_natural_numbers = {x for x in range(1, 11)}\n",
    "print(\"First ten natural numbers:\", first_ten_natural_numbers)\n"
   ]
  },
  {
   "cell_type": "code",
   "execution_count": null,
   "id": "c0a71d0a-8fee-4f9f-aa24-bd55be42c879",
   "metadata": {},
   "outputs": [],
   "source": [
    "Set Comprehension with Nested Loops:\n",
    "#Question 10 : Generate a set of all possible tuples (x, y) where x is an even number between 1 to 5 and y is an odd number between 6 to 10."
   ]
  },
  {
   "cell_type": "code",
   "execution_count": 8,
   "id": "03ac1f7f-6aa8-4bf7-94d6-04ad5b0a263e",
   "metadata": {},
   "outputs": [
    {
     "name": "stdout",
     "output_type": "stream",
     "text": [
      "Set of even-odd tuples: {(4, 9), (2, 9), (4, 7), (2, 7)}\n"
     ]
    }
   ],
   "source": [
    "even_odd_tuples = {(x, y) for x in range(2, 6, 2) for y in range(7, 11, 2)}\n",
    "print(\"Set of even-odd tuples:\", even_odd_tuples)\n"
   ]
  },
  {
   "cell_type": "code",
   "execution_count": null,
   "id": "96f7c0e9-7765-4a0e-be59-85e8921629e4",
   "metadata": {},
   "outputs": [],
   "source": [
    "*******************************************************************************************************************************"
   ]
  },
  {
   "cell_type": "markdown",
   "id": "c0c0e07a-d7b2-4fcc-96e5-b2e6a96d01d8",
   "metadata": {},
   "source": [
    "# DICTIONARY"
   ]
  },
  {
   "cell_type": "code",
   "execution_count": null,
   "id": "5c91229d-839c-401c-abf6-4a9fa96ec01c",
   "metadata": {},
   "outputs": [],
   "source": [
    "#Question 1 :\n",
    "Creating a Dictionary:\n",
    "\n",
    "Write a function that creates a dictionary from two lists, one containing keys and the other containing values."
   ]
  },
  {
   "cell_type": "code",
   "execution_count": 9,
   "id": "d8aa0243-d7b7-47f4-a496-e71c6791cf7b",
   "metadata": {},
   "outputs": [
    {
     "name": "stdout",
     "output_type": "stream",
     "text": [
      "Created dictionary: {'name': 'Alice', 'age': 25, 'city': 'New York'}\n"
     ]
    }
   ],
   "source": [
    "def create_dictionary(keys, values):\n",
    "    return {keys[i]: values[i] for i in range(len(keys))}\n",
    "\n",
    "# Example usage:\n",
    "keys = ['name', 'age', 'city']\n",
    "values = ['Alice', 25, 'New York']\n",
    "result_dict = create_dictionary(keys, values)\n",
    "print(\"Created dictionary:\", result_dict)\n"
   ]
  },
  {
   "cell_type": "code",
   "execution_count": null,
   "id": "6cd41293-62ca-438d-b811-14da70f504b2",
   "metadata": {},
   "outputs": [],
   "source": [
    "#Question 2 : \n",
    "Dictionary Manipulation:\n",
    "\n",
    "Write a function that takes a dictionary representing student scores and adds a new student with their score."
   ]
  },
  {
   "cell_type": "code",
   "execution_count": 10,
   "id": "27215651-601c-48b8-be27-aca4b6869a54",
   "metadata": {},
   "outputs": [
    {
     "name": "stdout",
     "output_type": "stream",
     "text": [
      "Updated student scores: {'Alice': 85, 'Bob': 90, 'Charlie': 88, 'David': 95}\n"
     ]
    }
   ],
   "source": [
    "def add_student_score(student_scores, name, score):\n",
    "    student_scores[name] = score\n",
    "    return student_scores\n",
    "\n",
    "# Example usage:\n",
    "student_scores = {'Alice': 85, 'Bob': 90, 'Charlie': 88}\n",
    "updated_scores = add_student_score(student_scores, 'David', 95)\n",
    "print(\"Updated student scores:\", updated_scores)\n"
   ]
  },
  {
   "cell_type": "code",
   "execution_count": null,
   "id": "b4ef4acc-f4ff-456b-be17-770e04ef796f",
   "metadata": {},
   "outputs": [],
   "source": [
    "#Question 3 : \n",
    "Dictionary Comprehension:\n",
    "\n",
    "Write a dictionary comprehension that converts a list of tuples into a dictionary where each tuple contains a student's name and their score."
   ]
  },
  {
   "cell_type": "code",
   "execution_count": 11,
   "id": "a4bd0466-2422-4352-898e-da4219ae0cad",
   "metadata": {},
   "outputs": [
    {
     "name": "stdout",
     "output_type": "stream",
     "text": [
      "Dictionary from tuples: {'Alice': 85, 'Bob': 90, 'Charlie': 88}\n"
     ]
    }
   ],
   "source": [
    "def tuples_to_dict(tuples_list):\n",
    "    return {name: score for name, score in tuples_list}\n",
    "\n",
    "# Example usage:\n",
    "students_scores = [(\"Alice\", 85), (\"Bob\", 90), (\"Charlie\", 88)]\n",
    "scores_dict = tuples_to_dict(students_scores)\n",
    "print(\"Dictionary from tuples:\", scores_dict)\n"
   ]
  },
  {
   "cell_type": "code",
   "execution_count": null,
   "id": "0018bd3f-ff8a-4622-ba4b-4436a710412a",
   "metadata": {},
   "outputs": [],
   "source": [
    "# Question 4: \n",
    "Dictionary Operations:\n",
    "\n",
    "Write a function that takes a dictionary of student scores and calculates the average score."
   ]
  },
  {
   "cell_type": "code",
   "execution_count": 12,
   "id": "5f38db48-4483-4d42-8e94-dbdee00d0b18",
   "metadata": {},
   "outputs": [
    {
     "name": "stdout",
     "output_type": "stream",
     "text": [
      "Average score: 87.66666666666667\n"
     ]
    }
   ],
   "source": [
    "def average_score(student_scores):\n",
    "    total_score = sum(student_scores.values())\n",
    "    return total_score / len(student_scores)\n",
    "\n",
    "# Example usage:\n",
    "student_scores = {'Alice': 85, 'Bob': 90, 'Charlie': 88}\n",
    "avg = average_score(student_scores)\n",
    "print(\"Average score:\", avg)\n"
   ]
  },
  {
   "cell_type": "code",
   "execution_count": null,
   "id": "42c79fba-25bb-4abf-88b6-1fe7d403a625",
   "metadata": {},
   "outputs": [],
   "source": [
    "#Question 5 :\n",
    "Nested Dictionary Operations:\n",
    "\n",
    "Write a function that takes a nested dictionary representing student grades by subject and calculates the average grade for each student."
   ]
  },
  {
   "cell_type": "code",
   "execution_count": 13,
   "id": "504a982c-b5e2-40d0-8bd5-199586e12b17",
   "metadata": {},
   "outputs": [
    {
     "name": "stdout",
     "output_type": "stream",
     "text": [
      "Average grades by student: {'Alice': 87.66666666666667, 'Bob': 89.66666666666667}\n"
     ]
    }
   ],
   "source": [
    "def average_grades_by_student(grades_dict):\n",
    "    avg_grades = {}\n",
    "    for student, subjects in grades_dict.items():\n",
    "        total_grade = sum(subjects.values())\n",
    "        avg_grades[student] = total_grade / len(subjects)\n",
    "    return avg_grades\n",
    "\n",
    "# Example usage:\n",
    "student_grades = {\n",
    "    'Alice': {'Math': 85, 'Science': 90, 'History': 88},\n",
    "    'Bob': {'Math': 90, 'Science': 92, 'History': 87}\n",
    "}\n",
    "avg_grades = average_grades_by_student(student_grades)\n",
    "print(\"Average grades by student:\", avg_grades)\n"
   ]
  },
  {
   "cell_type": "code",
   "execution_count": null,
   "id": "4e2790a8-a0d9-4a70-96db-ae24d0836aeb",
   "metadata": {},
   "outputs": [],
   "source": [
    "#Question 6 : \n",
    "STUDENT DATABASE\n",
    "\n",
    "Create a program that stores student names and their corresponding ages in a dictionary. Allow the user to add new students and update existing student information."
   ]
  },
  {
   "cell_type": "code",
   "execution_count": 14,
   "id": "f4e14446-991d-47de-ae95-22f5c61ae89c",
   "metadata": {},
   "outputs": [
    {
     "name": "stdout",
     "output_type": "stream",
     "text": [
      "\n",
      "1. Add a student\n",
      "2. Update student information\n",
      "3. Print all students\n",
      "4. Exit\n"
     ]
    },
    {
     "name": "stdin",
     "output_type": "stream",
     "text": [
      "Enter your choice (1-4):  2\n",
      "Enter student name to update:  Zaid\n"
     ]
    },
    {
     "name": "stdout",
     "output_type": "stream",
     "text": [
      "Student not found!\n",
      "\n",
      "1. Add a student\n",
      "2. Update student information\n",
      "3. Print all students\n",
      "4. Exit\n"
     ]
    },
    {
     "name": "stdin",
     "output_type": "stream",
     "text": [
      "Enter your choice (1-4):  3\n"
     ]
    },
    {
     "name": "stdout",
     "output_type": "stream",
     "text": [
      "\n",
      "List of students:\n",
      "\n",
      "1. Add a student\n",
      "2. Update student information\n",
      "3. Print all students\n",
      "4. Exit\n"
     ]
    },
    {
     "name": "stdin",
     "output_type": "stream",
     "text": [
      "Enter your choice (1-4):  4\n"
     ]
    },
    {
     "name": "stdout",
     "output_type": "stream",
     "text": [
      "Exiting program...\n"
     ]
    }
   ],
   "source": [
    "def student_database():\n",
    "    students = {}\n",
    "    while True:\n",
    "        print(\"\\n1. Add a student\")\n",
    "        print(\"2. Update student information\")\n",
    "        print(\"3. Print all students\")\n",
    "        print(\"4. Exit\")\n",
    "        choice = input(\"Enter your choice (1-4): \")\n",
    "\n",
    "        if choice == '1':\n",
    "            name = input(\"Enter student name: \")\n",
    "            age = int(input(\"Enter student age: \"))\n",
    "            students[name] = age\n",
    "            print(\"Student added successfully!\")\n",
    "\n",
    "        elif choice == '2':\n",
    "            name = input(\"Enter student name to update: \")\n",
    "            if name in students:\n",
    "                age = int(input(\"Enter updated age: \"))\n",
    "                students[name] = age\n",
    "                print(\"Student information updated successfully!\")\n",
    "            else:\n",
    "                print(\"Student not found!\")\n",
    "\n",
    "        elif choice == '3':\n",
    "            print(\"\\nList of students:\")\n",
    "            for name, age in students.items():\n",
    "                print(f\"{name}: {age}\")\n",
    "\n",
    "        elif choice == '4':\n",
    "            print(\"Exiting program...\")\n",
    "            break\n",
    "\n",
    "        else:\n",
    "            print(\"Invalid choice! Please enter a number between 1 to 4.\")\n",
    "\n",
    "# Example usage:\n",
    "student_database()\n"
   ]
  },
  {
   "cell_type": "code",
   "execution_count": null,
   "id": "3cb02820-4412-4520-b25f-c2aa54e054a8",
   "metadata": {},
   "outputs": [],
   "source": [
    "******************************************************************************************************************************"
   ]
  },
  {
   "cell_type": "markdown",
   "id": "623d5222-7724-486d-a9b0-a07e430bb769",
   "metadata": {},
   "source": [
    "## Basic String Manipulation ##"
   ]
  },
  {
   "cell_type": "code",
   "execution_count": null,
   "id": "2499824a-1987-4499-b219-fee3d619681e",
   "metadata": {},
   "outputs": [],
   "source": [
    "# Question 1 : \n",
    "Reverse a String:\n",
    "\n",
    "Write a function that takes a string as input and returns the reversed version of the string."
   ]
  },
  {
   "cell_type": "code",
   "execution_count": 15,
   "id": "3c2f8eb3-7008-4a77-b70d-f088652e103d",
   "metadata": {},
   "outputs": [
    {
     "name": "stdout",
     "output_type": "stream",
     "text": [
      "Reversed string: dlrow olleh\n"
     ]
    }
   ],
   "source": [
    "def reverse_string(s):\n",
    "    return s[::-1]\n",
    "\n",
    "# Example usage:\n",
    "input_string = \"hello world\"\n",
    "reversed_string = reverse_string(input_string)\n",
    "print(\"Reversed string:\", reversed_string)\n"
   ]
  },
  {
   "cell_type": "code",
   "execution_count": null,
   "id": "bfc7ca80-9332-411b-9fd4-038e936dd837",
   "metadata": {},
   "outputs": [],
   "source": [
    "#Question 2 : \n",
    "Count Vowels in a String:\n",
    "\n",
    "Write a function that counts the number of vowels (a, e, i, o, u) in a given string."
   ]
  },
  {
   "cell_type": "code",
   "execution_count": 16,
   "id": "8f563ceb-a6eb-40d7-86c5-09fdb326557c",
   "metadata": {},
   "outputs": [
    {
     "name": "stdout",
     "output_type": "stream",
     "text": [
      "Number of vowels: 4\n"
     ]
    }
   ],
   "source": [
    "def count_vowels(s):\n",
    "    vowels = \"aeiou\"\n",
    "    count = 0\n",
    "    for char in s.lower():\n",
    "        if char in vowels:\n",
    "            count += 1\n",
    "    return count\n",
    "\n",
    "# Example usage:\n",
    "input_string = \"Python Programming\"\n",
    "vowel_count = count_vowels(input_string)\n",
    "print(\"Number of vowels:\", vowel_count)\n"
   ]
  },
  {
   "cell_type": "code",
   "execution_count": null,
   "id": "e79c14f2-bb33-4826-a4ff-0338c2fe620a",
   "metadata": {},
   "outputs": [],
   "source": [
    "String Parsing and Formatting:\n",
    "#Question 3:\n",
    "\n",
    "Write a function that extracts and returns the domain name (e.g., \"example.com\") from an email address."
   ]
  },
  {
   "cell_type": "code",
   "execution_count": 17,
   "id": "e5ddc0bc-cf8b-4103-8f52-528d0444e436",
   "metadata": {},
   "outputs": [
    {
     "name": "stdout",
     "output_type": "stream",
     "text": [
      "Domain: example.com\n"
     ]
    }
   ],
   "source": [
    "def extract_email_domain(email):\n",
    "    return email.split('@')[-1]\n",
    "\n",
    "# Example usage:\n",
    "email_address = \"john.doe@example.com\"\n",
    "domain = extract_email_domain(email_address)\n",
    "print(\"Domain:\", domain)\n"
   ]
  },
  {
   "cell_type": "code",
   "execution_count": null,
   "id": "7bcb4991-8c98-4042-8f8a-415e8a2225b6",
   "metadata": {},
   "outputs": [],
   "source": [
    "# Question 4 :\n",
    "Title Case Conversion:\n",
    "\n",
    "Write a function that converts the first letter of each word in a sentence to uppercase and the rest to lowercase."
   ]
  },
  {
   "cell_type": "code",
   "execution_count": 18,
   "id": "f1b2a695-efee-4c9f-baab-3f103eb1b246",
   "metadata": {},
   "outputs": [
    {
     "name": "stdout",
     "output_type": "stream",
     "text": [
      "Titlecased sentence: Python Programming Is Fun\n"
     ]
    }
   ],
   "source": [
    "def title_case(sentence):\n",
    "    return ' '.join(word.capitalize() for word in sentence.split())\n",
    "\n",
    "# Example usage:\n",
    "input_sentence = \"python programming is fun\"\n",
    "titlecased_sentence = title_case(input_sentence)\n",
    "print(\"Titlecased sentence:\", titlecased_sentence)\n"
   ]
  },
  {
   "cell_type": "code",
   "execution_count": null,
   "id": "f4508501-72eb-4136-888a-b343f6a5b3e1",
   "metadata": {},
   "outputs": [],
   "source": [
    "Advanced String Operations:\n",
    "#Question 5 :\n",
    "\n",
    "Write a function that checks if a given string is a palindrome (reads the same backward as forward)."
   ]
  },
  {
   "cell_type": "code",
   "execution_count": 19,
   "id": "8ed10e5d-b51f-42d5-9fe3-a5afe3a49f13",
   "metadata": {},
   "outputs": [
    {
     "name": "stdout",
     "output_type": "stream",
     "text": [
      "radar is a palindrome: True\n",
      "hello is a palindrome: False\n"
     ]
    }
   ],
   "source": [
    "def is_palindrome(s):\n",
    "    return s == s[::-1]\n",
    "\n",
    "# Example usage:\n",
    "palindrome_string = \"radar\"\n",
    "non_palindrome_string = \"hello\"\n",
    "print(f\"{palindrome_string} is a palindrome:\", is_palindrome(palindrome_string))\n",
    "print(f\"{non_palindrome_string} is a palindrome:\", is_palindrome(non_palindrome_string))\n"
   ]
  },
  {
   "cell_type": "code",
   "execution_count": null,
   "id": "545cbc2b-c63d-4dd6-a5ac-9a09d259d8ee",
   "metadata": {},
   "outputs": [],
   "source": [
    "#Question 6:\n",
    "String Compression:\n",
    "\n",
    "Write a function that performs basic string compression using counts of repeated characters."
   ]
  },
  {
   "cell_type": "code",
   "execution_count": 20,
   "id": "e796fbf5-b386-46bc-b2e9-c81403702247",
   "metadata": {},
   "outputs": [
    {
     "name": "stdout",
     "output_type": "stream",
     "text": [
      "Compressed string: a2b3c2d4\n"
     ]
    }
   ],
   "source": [
    "def compress_string(s):\n",
    "    compressed = \"\"\n",
    "    count = 1\n",
    "    for i in range(1, len(s)):\n",
    "        if s[i] == s[i - 1]:\n",
    "            count += 1\n",
    "        else:\n",
    "            compressed += s[i - 1] + str(count)\n",
    "            count = 1\n",
    "    compressed += s[-1] + str(count)\n",
    "    return compressed if len(compressed) < len(s) else s\n",
    "\n",
    "# Example usage:\n",
    "input_string = \"aabbbccdddd\"\n",
    "compressed_string = compress_string(input_string)\n",
    "print(\"Compressed string:\", compressed_string)\n"
   ]
  },
  {
   "cell_type": "code",
   "execution_count": null,
   "id": "1ba40a26-f899-481c-886d-1dd7c7e97c55",
   "metadata": {},
   "outputs": [],
   "source": []
  },
  {
   "cell_type": "markdown",
   "id": "0f16c56e-6cba-4372-b112-0b5e86ab3a5f",
   "metadata": {},
   "source": [
    "## LIST ##"
   ]
  },
  {
   "cell_type": "code",
   "execution_count": null,
   "id": "ff96b1d5-014d-4838-a058-bbd496431ed1",
   "metadata": {},
   "outputs": [],
   "source": [
    "Basic List Operations:\n",
    "#Question 1:\n",
    "Write a function that takes a list as input and returns the reversed version of the list."
   ]
  },
  {
   "cell_type": "code",
   "execution_count": 21,
   "id": "9354d82f-240f-4c4c-b1fe-bccd14ec5c7c",
   "metadata": {},
   "outputs": [
    {
     "name": "stdout",
     "output_type": "stream",
     "text": [
      "Reversed list: [5, 4, 3, 2, 1]\n"
     ]
    }
   ],
   "source": [
    "def reverse_list(lst):\n",
    "    return lst[::-1]\n",
    "\n",
    "# Example usage:\n",
    "input_list = [1, 2, 3, 4, 5]\n",
    "reversed_list = reverse_list(input_list)\n",
    "print(\"Reversed list:\", reversed_list)\n"
   ]
  },
  {
   "cell_type": "code",
   "execution_count": null,
   "id": "eb414f66-2948-4b53-b63a-5ae38a1ed32a",
   "metadata": {},
   "outputs": [],
   "source": [
    "# Question 2:\n",
    "Sum of Even Numbers:\n",
    "Write a function that calculates the sum of all even numbers in a given list."
   ]
  },
  {
   "cell_type": "code",
   "execution_count": 22,
   "id": "d2a42c09-9d74-44ec-b42c-4198b7a59255",
   "metadata": {},
   "outputs": [
    {
     "name": "stdout",
     "output_type": "stream",
     "text": [
      "Sum of even numbers: 30\n"
     ]
    }
   ],
   "source": [
    "def sum_even_numbers(lst):\n",
    "    return sum(num for num in lst if num % 2 == 0)\n",
    "\n",
    "# Example usage:\n",
    "numbers = [1, 2, 3, 4, 5, 6, 7, 8, 9, 10]\n",
    "even_sum = sum_even_numbers(numbers)\n",
    "print(\"Sum of even numbers:\", even_sum)\n"
   ]
  },
  {
   "cell_type": "code",
   "execution_count": null,
   "id": "92bf8eaa-7f67-4eeb-8eda-54c0481e9fd0",
   "metadata": {},
   "outputs": [],
   "source": [
    "#Question 3:\n",
    "List Comprehensions:\n",
    "Write a list comprehension that generates a list of squares of numbers from 1 to 10."
   ]
  },
  {
   "cell_type": "code",
   "execution_count": 23,
   "id": "1f8dbd2a-2cd2-4a55-ad76-ce73ceec6c9b",
   "metadata": {},
   "outputs": [
    {
     "name": "stdout",
     "output_type": "stream",
     "text": [
      "List of squares: [1, 4, 9, 16, 25, 36, 49, 64, 81, 100]\n"
     ]
    }
   ],
   "source": [
    "squares = [x**2 for x in range(1, 11)]\n",
    "print(\"List of squares:\", squares)\n"
   ]
  },
  {
   "cell_type": "code",
   "execution_count": null,
   "id": "b1d9434d-354e-445e-9872-61f9f0da939f",
   "metadata": {},
   "outputs": [],
   "source": [
    "#Question 4:\n",
    "Write a list comprehension that filters out negative numbers from a list."
   ]
  },
  {
   "cell_type": "code",
   "execution_count": 24,
   "id": "7b522061-9774-4700-9a4a-42f5dd134096",
   "metadata": {},
   "outputs": [
    {
     "name": "stdout",
     "output_type": "stream",
     "text": [
      "Positive numbers: [2, 4, 6, 8, 10]\n"
     ]
    }
   ],
   "source": [
    "numbers = [-1, 2, -3, 4, -5, 6, -7, 8, -9, 10]\n",
    "positive_numbers = [num for num in numbers if num > 0]\n",
    "print(\"Positive numbers:\", positive_numbers)\n"
   ]
  },
  {
   "cell_type": "code",
   "execution_count": null,
   "id": "c086fd48-b3a0-40f6-9fb7-29c10a631076",
   "metadata": {},
   "outputs": [],
   "source": [
    "#Question 5:\n",
    "Advanced List Operations:\n",
    "Write a function that merges two lists, removes duplicates, and sorts the resulting list."
   ]
  },
  {
   "cell_type": "code",
   "execution_count": 25,
   "id": "8db0a0f2-f9f4-41fb-bba6-8a4a3889e534",
   "metadata": {},
   "outputs": [
    {
     "name": "stdout",
     "output_type": "stream",
     "text": [
      "Merged and sorted list: [1, 2, 3, 4, 5, 6, 7, 8, 9, 10]\n"
     ]
    }
   ],
   "source": [
    "def merge_and_sort_lists(list1, list2):\n",
    "    merged_list = list(set(list1 + list2))\n",
    "    merged_list.sort()\n",
    "    return merged_list\n",
    "\n",
    "# Example usage:\n",
    "list1 = [1, 3, 5, 7, 9]\n",
    "list2 = [2, 4, 6, 8, 10]\n",
    "merged_and_sorted = merge_and_sort_lists(list1, list2)\n",
    "print(\"Merged and sorted list:\", merged_and_sorted)\n"
   ]
  },
  {
   "cell_type": "code",
   "execution_count": null,
   "id": "13c84d21-7faf-42f2-8060-5231250bd65e",
   "metadata": {},
   "outputs": [],
   "source": [
    "#Question 6 :\n",
    "Write a function that takes a list of words and a minimum length and returns a list of words longer than that length."
   ]
  },
  {
   "cell_type": "code",
   "execution_count": 26,
   "id": "f5133380-689e-40e2-a9be-a5368faa3e76",
   "metadata": {},
   "outputs": [
    {
     "name": "stdout",
     "output_type": "stream",
     "text": [
      "Words longer than 5 characters: ['banana', 'orange']\n"
     ]
    }
   ],
   "source": [
    "def filter_long_words(words, min_length):\n",
    "    return [word for word in words if len(word) > min_length]\n",
    "\n",
    "# Example usage:\n",
    "words = [\"apple\", \"banana\", \"orange\", \"grape\", \"kiwi\"]\n",
    "min_length = 5\n",
    "long_words = filter_long_words(words, min_length)\n",
    "print(f\"Words longer than {min_length} characters:\", long_words)\n"
   ]
  },
  {
   "cell_type": "code",
   "execution_count": null,
   "id": "d40958da-8626-426a-b7fe-66c0c409db70",
   "metadata": {},
   "outputs": [],
   "source": [
    "********************************************************************************************************************************"
   ]
  },
  {
   "cell_type": "code",
   "execution_count": null,
   "id": "a0d37494-dd70-46d7-9129-215a1c51a5cf",
   "metadata": {},
   "outputs": [],
   "source": []
  },
  {
   "cell_type": "markdown",
   "id": "b6bb74b8-2050-4e0f-b9d3-d55c904180eb",
   "metadata": {},
   "source": [
    "## TUPLE ##"
   ]
  },
  {
   "cell_type": "code",
   "execution_count": null,
   "id": "5ea2c49d-0d8e-4d7d-8f22-bbc505451ae6",
   "metadata": {},
   "outputs": [],
   "source": [
    "Basic Tuple Operations:\n",
    "\n",
    "#Question 1:\n",
    "Write a function that prints each element of a tuple"
   ]
  },
  {
   "cell_type": "code",
   "execution_count": 27,
   "id": "0efba51e-f7e6-446f-8366-814c42d5d1c8",
   "metadata": {},
   "outputs": [
    {
     "name": "stdout",
     "output_type": "stream",
     "text": [
      "Elements of the tuple:\n",
      "1\n",
      "2\n",
      "3\n",
      "4\n",
      "5\n"
     ]
    }
   ],
   "source": [
    "def print_tuple_elements(tup):\n",
    "    for element in tup:\n",
    "        print(element)\n",
    "\n",
    "# Example usage:\n",
    "my_tuple = (1, 2, 3, 4, 5)\n",
    "print(\"Elements of the tuple:\")\n",
    "print_tuple_elements(my_tuple)\n"
   ]
  },
  {
   "cell_type": "code",
   "execution_count": null,
   "id": "e322ee97-47bf-452d-8b92-afe80ace1161",
   "metadata": {},
   "outputs": [],
   "source": [
    "#Question 2:\n",
    "Demonstrate tuple packing and unpacking in a function that takes multiple arguments and returns them as a tuple."
   ]
  },
  {
   "cell_type": "code",
   "execution_count": 28,
   "id": "df6bbbd8-6af6-42ba-9cb9-cb64c6154c5e",
   "metadata": {},
   "outputs": [
    {
     "name": "stdout",
     "output_type": "stream",
     "text": [
      "Packed tuple: (1, 'apple', True)\n",
      "Unpacked values: 1 apple True\n"
     ]
    }
   ],
   "source": [
    "def pack_and_unpack(*args):\n",
    "    return args\n",
    "\n",
    "# Example usage:\n",
    "packed_tuple = pack_and_unpack(1, 'apple', True)\n",
    "print(\"Packed tuple:\", packed_tuple)\n",
    "\n",
    "# Unpacking tuple elements\n",
    "num, fruit, flag = packed_tuple\n",
    "print(\"Unpacked values:\", num, fruit, flag)\n"
   ]
  },
  {
   "cell_type": "code",
   "execution_count": null,
   "id": "3d0fdd72-aebd-4456-8b34-860586ba5786",
   "metadata": {},
   "outputs": [],
   "source": [
    "#Question 3:\n",
    "Write a tuple comprehension that generates a tuple of squares of numbers from 1 to 5."
   ]
  },
  {
   "cell_type": "code",
   "execution_count": 29,
   "id": "1e574b89-0c39-4201-8f91-019c591d939e",
   "metadata": {},
   "outputs": [
    {
     "name": "stdout",
     "output_type": "stream",
     "text": [
      "Tuple of squares: (1, 4, 9, 16, 25)\n"
     ]
    }
   ],
   "source": [
    "squares_tuple = tuple(x**2 for x in range(1, 6))\n",
    "print(\"Tuple of squares:\", squares_tuple)\n"
   ]
  },
  {
   "cell_type": "code",
   "execution_count": null,
   "id": "1acdb1be-926d-41af-a922-4279502d5c61",
   "metadata": {},
   "outputs": [],
   "source": [
    "#Question 4:\n",
    "Advanced Tuple Operations:\n",
    "Write a function that concatenates two tuples and returns a new tuple."
   ]
  },
  {
   "cell_type": "code",
   "execution_count": 30,
   "id": "cf5bf39b-b279-4ec5-a224-cb80859db384",
   "metadata": {},
   "outputs": [
    {
     "name": "stdout",
     "output_type": "stream",
     "text": [
      "Concatenated tuple: (1, 2, 3, 'a', 'b', 'c')\n"
     ]
    }
   ],
   "source": [
    "def concatenate_tuples(tup1, tup2):\n",
    "    return tup1 + tup2\n",
    "\n",
    "# Example usage:\n",
    "tuple1 = (1, 2, 3)\n",
    "tuple2 = ('a', 'b', 'c')\n",
    "concatenated_tuple = concatenate_tuples(tuple1, tuple2)\n",
    "print(\"Concatenated tuple:\", concatenated_tuple)\n"
   ]
  },
  {
   "cell_type": "code",
   "execution_count": null,
   "id": "aeeb31c7-c08c-49e4-ba2f-9e21491e7d2e",
   "metadata": {},
   "outputs": [],
   "source": [
    "#Question 5:\n",
    "Tuple Operations with Strings:\n",
    "Write a function that takes a string and returns a tuple containing the string itself, its length, and its uppercase version."
   ]
  },
  {
   "cell_type": "code",
   "execution_count": 31,
   "id": "41182058-eb2d-44e3-9878-38cd30cdb271",
   "metadata": {},
   "outputs": [
    {
     "name": "stdout",
     "output_type": "stream",
     "text": [
      "Tuple with string operations: ('hello', 5, 'HELLO')\n"
     ]
    }
   ],
   "source": [
    "def string_operations(s):\n",
    "    return (s, len(s), s.upper())\n",
    "\n",
    "# Example usage:\n",
    "input_string = \"hello\"\n",
    "result_tuple = string_operations(input_string)\n",
    "print(\"Tuple with string operations:\", result_tuple)\n"
   ]
  },
  {
   "cell_type": "code",
   "execution_count": null,
   "id": "fbcc5cf6-8094-4323-b0fd-af452d5d9ee2",
   "metadata": {},
   "outputs": [],
   "source": [
    "#Question 6 :\n",
    "Write a function that uses a tuple as keys in a dictionary to store and retrieve student grades by subject."
   ]
  },
  {
   "cell_type": "code",
   "execution_count": 32,
   "id": "9e7853b8-b997-4714-b501-3f68fd5fb114",
   "metadata": {},
   "outputs": [
    {
     "name": "stdout",
     "output_type": "stream",
     "text": [
      "Student grades dictionary:\n",
      "Alice - Math: 85\n",
      "Bob - Math: 90\n",
      "Alice - Science: 88\n",
      "Bob - Science: 92\n"
     ]
    }
   ],
   "source": [
    "def student_grades():\n",
    "    grades = {}\n",
    "    grades[('Alice', 'Math')] = 85\n",
    "    grades[('Bob', 'Math')] = 90\n",
    "    grades[('Alice', 'Science')] = 88\n",
    "    grades[('Bob', 'Science')] = 92\n",
    "    \n",
    "    return grades\n",
    "\n",
    "# Example usage:\n",
    "student_grades_dict = student_grades()\n",
    "print(\"Student grades dictionary:\")\n",
    "for (student, subject), grade in student_grades_dict.items():\n",
    "    print(f\"{student} - {subject}: {grade}\")\n"
   ]
  },
  {
   "cell_type": "code",
   "execution_count": null,
   "id": "1f0382d6-3b36-4d4d-a4e0-269d7dab7507",
   "metadata": {},
   "outputs": [],
   "source": [
    "*******************************************************************************************************************************"
   ]
  },
  {
   "cell_type": "code",
   "execution_count": null,
   "id": "dfc9774d-1fa4-446a-8cea-1b31f43bb9d0",
   "metadata": {},
   "outputs": [],
   "source": []
  },
  {
   "cell_type": "markdown",
   "id": "838cfe0a-7e64-4a89-a100-c6bdf146cd3a",
   "metadata": {},
   "source": [
    "## MUTABLE AND IMMUTABLE ############"
   ]
  },
  {
   "cell_type": "code",
   "execution_count": null,
   "id": "24247932-1006-4efe-9db0-db7e930fcfcd",
   "metadata": {},
   "outputs": [],
   "source": [
    "#Question 1 :\n",
    "Mutable:\n",
    "Write a function that modifies a list in-place by appending an element to it."
   ]
  },
  {
   "cell_type": "code",
   "execution_count": 33,
   "id": "f565d6db-de4a-4d29-9797-85fb11feea7e",
   "metadata": {},
   "outputs": [
    {
     "name": "stdout",
     "output_type": "stream",
     "text": [
      "Modified list: [1, 2, 3, 4]\n"
     ]
    }
   ],
   "source": [
    "def append_to_list(lst, element):\n",
    "    lst.append(element)\n",
    "\n",
    "# Example usage:\n",
    "my_list = [1, 2, 3]\n",
    "append_to_list(my_list, 4)\n",
    "print(\"Modified list:\", my_list)\n"
   ]
  },
  {
   "cell_type": "code",
   "execution_count": null,
   "id": "fe49880f-527d-4a48-82c7-994339dc277e",
   "metadata": {},
   "outputs": [],
   "source": [
    "#Question 2:\n",
    "Write a function that updates a dictionary by adding a new key-value pair."
   ]
  },
  {
   "cell_type": "code",
   "execution_count": 34,
   "id": "d0ade319-5186-4014-b11c-5ebf77b83bae",
   "metadata": {},
   "outputs": [
    {
     "name": "stdout",
     "output_type": "stream",
     "text": [
      "Modified dictionary: {'a': 1, 'b': 2, 'c': 3}\n"
     ]
    }
   ],
   "source": [
    "def add_to_dictionary(d, key, value):\n",
    "    d[key] = value\n",
    "\n",
    "# Example usage:\n",
    "my_dict = {'a': 1, 'b': 2}\n",
    "add_to_dictionary(my_dict, 'c', 3)\n",
    "print(\"Modified dictionary:\", my_dict)\n"
   ]
  },
  {
   "cell_type": "code",
   "execution_count": null,
   "id": "5c80b43d-aa3b-45f2-b80f-4d5e753b30a9",
   "metadata": {},
   "outputs": [],
   "source": [
    "#Question 3:\n",
    "Immutable:\n",
    "Demonstrate how modifying a string creates a new string object."
   ]
  },
  {
   "cell_type": "code",
   "execution_count": 35,
   "id": "1f5552d1-f470-4037-8bfa-dfe6d2669a85",
   "metadata": {},
   "outputs": [
    {
     "name": "stdout",
     "output_type": "stream",
     "text": [
      "Original string: hello\n",
      "Modified string: hello world\n"
     ]
    }
   ],
   "source": [
    "def modify_string(s):\n",
    "    s = s + \" world\"\n",
    "    return s\n",
    "\n",
    "# Example usage:\n",
    "original_string = \"hello\"\n",
    "modified_string = modify_string(original_string)\n",
    "print(\"Original string:\", original_string)\n",
    "print(\"Modified string:\", modified_string)\n"
   ]
  },
  {
   "cell_type": "code",
   "execution_count": null,
   "id": "d79b2a58-3aa3-4636-a5ee-94057b06c10a",
   "metadata": {},
   "outputs": [],
   "source": [
    "#Question 4:\n",
    "Show how attempting to modify a tuple raises an error."
   ]
  },
  {
   "cell_type": "code",
   "execution_count": 36,
   "id": "042bbaa9-2bcf-4bf9-a810-b085580278a6",
   "metadata": {},
   "outputs": [
    {
     "name": "stdout",
     "output_type": "stream",
     "text": [
      "TypeError: 'tuple' object does not support item assignment\n"
     ]
    }
   ],
   "source": [
    "def modify_tuple(tup, index, value):\n",
    "    try:\n",
    "        tup[index] = value\n",
    "    except TypeError as e:\n",
    "        print(\"TypeError:\", e)\n",
    "\n",
    "# Example usage:\n",
    "my_tuple = (1, 2, 3)\n",
    "modify_tuple(my_tuple, 1, 5)\n"
   ]
  },
  {
   "cell_type": "code",
   "execution_count": null,
   "id": "1b8ecfd1-1441-4e79-bfd5-970e54253191",
   "metadata": {},
   "outputs": [],
   "source": [
    "#Question 5:\n",
    "Write a function that modifies a list passed as an argument and observe its effect."
   ]
  },
  {
   "cell_type": "code",
   "execution_count": 37,
   "id": "b128c895-9d7c-47b4-ba51-19928a09c041",
   "metadata": {},
   "outputs": [
    {
     "name": "stdout",
     "output_type": "stream",
     "text": [
      "Modified list: ['modified', 2, 3, 4]\n"
     ]
    }
   ],
   "source": [
    "def modify_list(lst):\n",
    "    lst.append(4)\n",
    "    lst[0] = 'modified'\n",
    "\n",
    "# Example usage:\n",
    "my_list = [1, 2, 3]\n",
    "modify_list(my_list)\n",
    "print(\"Modified list:\", my_list)\n"
   ]
  },
  {
   "cell_type": "code",
   "execution_count": null,
   "id": "6ab69cc9-a9ae-40c9-89e6-3a6bc71fe0c8",
   "metadata": {},
   "outputs": [],
   "source": [
    "********************************************************************************************************************************"
   ]
  },
  {
   "cell_type": "code",
   "execution_count": null,
   "id": "f2932810-e0e1-4d49-8051-d0c50464d65a",
   "metadata": {},
   "outputs": [],
   "source": []
  },
  {
   "cell_type": "markdown",
   "id": "027dd80b-b84c-4ac5-aa48-5fefa5e1fb97",
   "metadata": {},
   "source": [
    "## USEFUL FUNCTIONS IN PYTHON ##"
   ]
  },
  {
   "cell_type": "code",
   "execution_count": null,
   "id": "2e6eaf9e-d1ff-4131-836c-78dd936fa42a",
   "metadata": {},
   "outputs": [],
   "source": [
    "#Question 1:\n",
    "Using id Function\n",
    "Write a program that demonstrates the use of the id function to show memory addresses of variables."
   ]
  },
  {
   "cell_type": "code",
   "execution_count": 38,
   "id": "8d53b7d5-cc18-44a0-b956-d153b87425fb",
   "metadata": {},
   "outputs": [
    {
     "name": "stdout",
     "output_type": "stream",
     "text": [
      "Memory address of x: 140705891402824\n",
      "Memory address of y: 2297618593328\n",
      "Memory address of z: 2297623423168\n"
     ]
    }
   ],
   "source": [
    "def demonstrate_id_function():\n",
    "    x = 10\n",
    "    y = \"hello\"\n",
    "    z = [1, 2, 3]\n",
    "\n",
    "    print(\"Memory address of x:\", id(x))\n",
    "    print(\"Memory address of y:\", id(y))\n",
    "    print(\"Memory address of z:\", id(z))\n",
    "\n",
    "# Example usage:\n",
    "demonstrate_id_function()\n"
   ]
  },
  {
   "cell_type": "code",
   "execution_count": null,
   "id": "dc97a1b1-f0d8-429e-924b-e973cb10c241",
   "metadata": {},
   "outputs": [],
   "source": [
    "#Question 2 :\n",
    "Using input Function:\n",
    "Write a program that prompts the user to enter their name and age, then prints a personalized greeting."
   ]
  },
  {
   "cell_type": "code",
   "execution_count": 39,
   "id": "b1d437d3-b3f4-4ade-a359-bd5c534146ed",
   "metadata": {},
   "outputs": [
    {
     "name": "stdin",
     "output_type": "stream",
     "text": [
      "Enter your name:  Ritu \n",
      "Enter your age:  24\n"
     ]
    },
    {
     "name": "stdout",
     "output_type": "stream",
     "text": [
      "Hello, Ritu ! You are 24 years old.\n"
     ]
    }
   ],
   "source": [
    "def greet_user():\n",
    "    name = input(\"Enter your name: \")\n",
    "    age = int(input(\"Enter your age: \"))\n",
    "    print(f\"Hello, {name}! You are {age} years old.\")\n",
    "\n",
    "# Example usage:\n",
    "greet_user()\n"
   ]
  },
  {
   "cell_type": "code",
   "execution_count": null,
   "id": "ab565b4a-8376-4c85-b565-149509f5b15c",
   "metadata": {},
   "outputs": [],
   "source": [
    "#Question 3 :\n",
    "Using print Function:\n",
    "Write a program that prints formatted output using the print function."
   ]
  },
  {
   "cell_type": "code",
   "execution_count": 40,
   "id": "f4e9c02b-4bef-476e-9fa2-339b53f543b0",
   "metadata": {},
   "outputs": [
    {
     "name": "stdout",
     "output_type": "stream",
     "text": [
      "You bought 3 books for $29.99 each.\n",
      "Total cost: $89.97\n"
     ]
    }
   ],
   "source": [
    "def formatted_output():\n",
    "    item = \"book\"\n",
    "    price = 29.99\n",
    "    quantity = 3\n",
    "\n",
    "    print(f\"You bought {quantity} {item}s for ${price:.2f} each.\")\n",
    "    total_cost = price * quantity\n",
    "    print(f\"Total cost: ${total_cost:.2f}\")\n",
    "\n",
    "# Example usage:\n",
    "formatted_output()\n"
   ]
  },
  {
   "cell_type": "code",
   "execution_count": null,
   "id": "b0ecd7a2-a2bc-421d-85f3-d4cd2c550091",
   "metadata": {},
   "outputs": [],
   "source": [
    "#Question 4:\n",
    "Using type Function:\n",
    "Write a function that checks the type of a given input and performs operations based on the type."
   ]
  },
  {
   "cell_type": "code",
   "execution_count": 41,
   "id": "a9f5be21-aaa9-4c0d-b657-4e242b13af56",
   "metadata": {},
   "outputs": [
    {
     "name": "stdout",
     "output_type": "stream",
     "text": [
      "10 is an integer.\n",
      "Square of 10: 100\n",
      "3.14 is a float.\n",
      "Cube root of 3.14: 1.46\n",
      "hello is a string.\n",
      "Length of 'hello': 5\n"
     ]
    }
   ],
   "source": [
    "def process_input(data):\n",
    "    data_type = type(data)\n",
    "\n",
    "    if data_type == int:\n",
    "        print(f\"{data} is an integer.\")\n",
    "        print(f\"Square of {data}: {data**2}\")\n",
    "    elif data_type == float:\n",
    "        print(f\"{data} is a float.\")\n",
    "        print(f\"Cube root of {data}: {data**(1/3):.2f}\")\n",
    "    elif data_type == str:\n",
    "        print(f\"{data} is a string.\")\n",
    "        print(f\"Length of '{data}': {len(data)}\")\n",
    "    else:\n",
    "        print(f\"Unknown type: {data_type}\")\n",
    "\n",
    "# Example usage:\n",
    "process_input(10)\n",
    "process_input(3.14)\n",
    "process_input(\"hello\")\n"
   ]
  },
  {
   "cell_type": "code",
   "execution_count": null,
   "id": "e4bf184e-2dc6-4874-8b3e-9932945c8a0f",
   "metadata": {},
   "outputs": [],
   "source": [
    "#Question 5:\n",
    "Write a function that takes a list of numbers and prints each number along with its square."
   ]
  },
  {
   "cell_type": "code",
   "execution_count": 42,
   "id": "473f03f6-1124-48d0-9280-f5ea90717e57",
   "metadata": {},
   "outputs": [
    {
     "name": "stdout",
     "output_type": "stream",
     "text": [
      "Number: 1 | Square: 1\n",
      "Number: 2 | Square: 4\n",
      "Number: 3 | Square: 9\n",
      "Number: 4 | Square: 16\n",
      "Number: 5 | Square: 25\n"
     ]
    }
   ],
   "source": [
    "def print_numbers_and_squares(numbers):\n",
    "    for num in numbers:\n",
    "        print(f\"Number: {num} | Square: {num**2}\")\n",
    "\n",
    "# Example usage:\n",
    "numbers_list = [1, 2, 3, 4, 5]\n",
    "print_numbers_and_squares(numbers_list)\n"
   ]
  },
  {
   "cell_type": "code",
   "execution_count": null,
   "id": "3065c439-9b93-4c08-a2f8-dbec6d67cf4e",
   "metadata": {},
   "outputs": [],
   "source": [
    "#Question 6:\n",
    "Write a program that prompts the user to enter a number and determines if it is an integer or a float."
   ]
  },
  {
   "cell_type": "code",
   "execution_count": 43,
   "id": "420e54b7-efcd-4158-83cc-2f3414616469",
   "metadata": {},
   "outputs": [
    {
     "name": "stdin",
     "output_type": "stream",
     "text": [
      "Enter a number:  5\n"
     ]
    },
    {
     "name": "stdout",
     "output_type": "stream",
     "text": [
      "5 is an integer.\n"
     ]
    }
   ],
   "source": [
    "def check_number_type(data):\n",
    "    if isinstance(data, int):\n",
    "        print(f\"{data} is an integer.\")\n",
    "    elif isinstance(data, float):\n",
    "        print(f\"{data} is a float.\")\n",
    "    else:\n",
    "        print(f\"{data} is neither an integer nor a float.\")\n",
    "\n",
    "# Example usage:\n",
    "number = input(\"Enter a number: \")\n",
    "try:\n",
    "    number = eval(number)\n",
    "    check_number_type(number)\n",
    "except (NameError, SyntaxError):\n",
    "    print(\"Invalid input. Please enter a valid number.\")\n"
   ]
  },
  {
   "cell_type": "code",
   "execution_count": null,
   "id": "c1bde8ef-d3da-49d3-918c-27b47d6aa567",
   "metadata": {},
   "outputs": [],
   "source": [
    "#Question 7:\n",
    "Write a function that dynamically generates and prints a message based on user input."
   ]
  },
  {
   "cell_type": "code",
   "execution_count": 44,
   "id": "2fac914f-3a8d-4a20-a903-605c8bd6541d",
   "metadata": {},
   "outputs": [
    {
     "name": "stdin",
     "output_type": "stream",
     "text": [
      "Enter your name:  Ritu\n",
      "Enter your age:  24\n"
     ]
    },
    {
     "name": "stdout",
     "output_type": "stream",
     "text": [
      "Hello, Ritu! You are 24 years old. You are of legal age.\n"
     ]
    }
   ],
   "source": [
    "def generate_and_print_message(name, age):\n",
    "    if age < 18:\n",
    "        print(f\"Hello, {name}! You are {age} years old. You are underage.\")\n",
    "    else:\n",
    "        print(f\"Hello, {name}! You are {age} years old. You are of legal age.\")\n",
    "\n",
    "# Example usage:\n",
    "user_name = input(\"Enter your name: \")\n",
    "user_age = int(input(\"Enter your age: \"))\n",
    "generate_and_print_message(user_name, user_age)\n"
   ]
  },
  {
   "cell_type": "code",
   "execution_count": null,
   "id": "e8e84c67-fa5d-42ac-8788-61e7d20ec614",
   "metadata": {},
   "outputs": [],
   "source": [
    "********************************************************************************************************************************"
   ]
  },
  {
   "cell_type": "code",
   "execution_count": null,
   "id": "75a0d89f-1e8a-42ac-a5b6-a1a3b753e66d",
   "metadata": {},
   "outputs": [],
   "source": []
  },
  {
   "cell_type": "markdown",
   "id": "5b3c123b-62ba-4bce-87cf-5478319f4137",
   "metadata": {},
   "source": [
    "## NESTED LOOPING OPERATION ##"
   ]
  },
  {
   "cell_type": "code",
   "execution_count": null,
   "id": "73da35ed-8f45-47b6-8ceb-7a7988d00336",
   "metadata": {},
   "outputs": [],
   "source": [
    "#Question 1:\n",
    "Write a program that generates and prints a multiplication table using nested loops."
   ]
  },
  {
   "cell_type": "code",
   "execution_count": 45,
   "id": "099010ad-d5c9-4b31-bbd6-f0dca830d0f5",
   "metadata": {},
   "outputs": [
    {
     "name": "stdout",
     "output_type": "stream",
     "text": [
      "1 * 1 = 1\n",
      "1 * 2 = 2\n",
      "1 * 3 = 3\n",
      "1 * 4 = 4\n",
      "1 * 5 = 5\n",
      "1 * 6 = 6\n",
      "1 * 7 = 7\n",
      "1 * 8 = 8\n",
      "1 * 9 = 9\n",
      "1 * 10 = 10\n",
      "\n",
      "2 * 1 = 2\n",
      "2 * 2 = 4\n",
      "2 * 3 = 6\n",
      "2 * 4 = 8\n",
      "2 * 5 = 10\n",
      "2 * 6 = 12\n",
      "2 * 7 = 14\n",
      "2 * 8 = 16\n",
      "2 * 9 = 18\n",
      "2 * 10 = 20\n",
      "\n",
      "3 * 1 = 3\n",
      "3 * 2 = 6\n",
      "3 * 3 = 9\n",
      "3 * 4 = 12\n",
      "3 * 5 = 15\n",
      "3 * 6 = 18\n",
      "3 * 7 = 21\n",
      "3 * 8 = 24\n",
      "3 * 9 = 27\n",
      "3 * 10 = 30\n",
      "\n",
      "4 * 1 = 4\n",
      "4 * 2 = 8\n",
      "4 * 3 = 12\n",
      "4 * 4 = 16\n",
      "4 * 5 = 20\n",
      "4 * 6 = 24\n",
      "4 * 7 = 28\n",
      "4 * 8 = 32\n",
      "4 * 9 = 36\n",
      "4 * 10 = 40\n",
      "\n",
      "5 * 1 = 5\n",
      "5 * 2 = 10\n",
      "5 * 3 = 15\n",
      "5 * 4 = 20\n",
      "5 * 5 = 25\n",
      "5 * 6 = 30\n",
      "5 * 7 = 35\n",
      "5 * 8 = 40\n",
      "5 * 9 = 45\n",
      "5 * 10 = 50\n",
      "\n",
      "6 * 1 = 6\n",
      "6 * 2 = 12\n",
      "6 * 3 = 18\n",
      "6 * 4 = 24\n",
      "6 * 5 = 30\n",
      "6 * 6 = 36\n",
      "6 * 7 = 42\n",
      "6 * 8 = 48\n",
      "6 * 9 = 54\n",
      "6 * 10 = 60\n",
      "\n",
      "7 * 1 = 7\n",
      "7 * 2 = 14\n",
      "7 * 3 = 21\n",
      "7 * 4 = 28\n",
      "7 * 5 = 35\n",
      "7 * 6 = 42\n",
      "7 * 7 = 49\n",
      "7 * 8 = 56\n",
      "7 * 9 = 63\n",
      "7 * 10 = 70\n",
      "\n",
      "8 * 1 = 8\n",
      "8 * 2 = 16\n",
      "8 * 3 = 24\n",
      "8 * 4 = 32\n",
      "8 * 5 = 40\n",
      "8 * 6 = 48\n",
      "8 * 7 = 56\n",
      "8 * 8 = 64\n",
      "8 * 9 = 72\n",
      "8 * 10 = 80\n",
      "\n",
      "9 * 1 = 9\n",
      "9 * 2 = 18\n",
      "9 * 3 = 27\n",
      "9 * 4 = 36\n",
      "9 * 5 = 45\n",
      "9 * 6 = 54\n",
      "9 * 7 = 63\n",
      "9 * 8 = 72\n",
      "9 * 9 = 81\n",
      "9 * 10 = 90\n",
      "\n",
      "10 * 1 = 10\n",
      "10 * 2 = 20\n",
      "10 * 3 = 30\n",
      "10 * 4 = 40\n",
      "10 * 5 = 50\n",
      "10 * 6 = 60\n",
      "10 * 7 = 70\n",
      "10 * 8 = 80\n",
      "10 * 9 = 90\n",
      "10 * 10 = 100\n",
      "\n"
     ]
    }
   ],
   "source": [
    "def multiplication_table():\n",
    "    for i in range(1, 11):\n",
    "        for j in range(1, 11):\n",
    "            print(f\"{i} * {j} = {i * j}\")\n",
    "        print()  # Print an empty line after each row\n",
    "\n",
    "# Example usage:\n",
    "multiplication_table()\n"
   ]
  },
  {
   "cell_type": "code",
   "execution_count": null,
   "id": "d7380239-a531-482b-9102-ef29a5a6c75d",
   "metadata": {},
   "outputs": [],
   "source": [
    "#Question 2:\n",
    "Write a program that prints a pattern using nested loops."
   ]
  },
  {
   "cell_type": "code",
   "execution_count": 46,
   "id": "133f3562-246b-4468-83de-291ffccceac2",
   "metadata": {},
   "outputs": [
    {
     "name": "stdout",
     "output_type": "stream",
     "text": [
      "* \n",
      "* * \n",
      "* * * \n",
      "* * * * \n",
      "* * * * * \n"
     ]
    }
   ],
   "source": [
    "def print_pattern(rows):\n",
    "    for i in range(1, rows + 1):\n",
    "        for j in range(1, i + 1):\n",
    "            print(\"*\", end=\" \")\n",
    "        print()\n",
    "\n",
    "# Example usage:\n",
    "print_pattern(5)\n"
   ]
  },
  {
   "cell_type": "code",
   "execution_count": null,
   "id": "f8679390-40c4-413d-a0c3-849dfdd4060b",
   "metadata": {},
   "outputs": [],
   "source": [
    "#Question 3:\n",
    "Write a program that iterates through a nested list and prints each element."
   ]
  },
  {
   "cell_type": "code",
   "execution_count": 47,
   "id": "45dd63a8-0c27-4102-93d5-2401642d021c",
   "metadata": {},
   "outputs": [
    {
     "name": "stdout",
     "output_type": "stream",
     "text": [
      "1 2 3 \n",
      "4 5 6 \n",
      "7 8 9 \n"
     ]
    }
   ],
   "source": [
    "def process_nested_list(nested_list):\n",
    "    for sublist in nested_list:\n",
    "        for item in sublist:\n",
    "            print(item, end=\" \")\n",
    "        print()  # Move to the next line after each sublist\n",
    "\n",
    "# Example usage:\n",
    "matrix = [\n",
    "    [1, 2, 3],\n",
    "    [4, 5, 6],\n",
    "    [7, 8, 9]\n",
    "]\n",
    "process_nested_list(matrix)\n"
   ]
  },
  {
   "cell_type": "code",
   "execution_count": null,
   "id": "e4dcfa41-54d0-46a9-a23d-8695446e3999",
   "metadata": {},
   "outputs": [],
   "source": [
    "#Question 4:\n",
    "Write a program that finds and prints all prime numbers up to a given number using nested loops.\n"
   ]
  },
  {
   "cell_type": "code",
   "execution_count": 50,
   "id": "42d0c98f-65b8-401a-958c-f9f82aad68a3",
   "metadata": {},
   "outputs": [
    {
     "name": "stdout",
     "output_type": "stream",
     "text": [
      "Prime numbers up to 20:\n",
      "[2, 3, 5, 7, 11, 13, 17, 19]\n"
     ]
    }
   ],
   "source": [
    "def find_prime_numbers(limit):\n",
    "    prime_numbers = []\n",
    "    for num in range(2, limit + 1):\n",
    "        is_prime = True\n",
    "        for i in range(2, int(num**0.5) + 1):\n",
    "            if num % i == 0:\n",
    "                is_prime = False\n",
    "                break\n",
    "        if is_prime:\n",
    "            prime_numbers.append(num)\n",
    "    return prime_numbers\n",
    "\n",
    "# Example usage:\n",
    "limit = 20\n",
    "primes = find_prime_numbers(limit)\n",
    "print(f\"Prime numbers up to {limit}:\")\n",
    "print(primes)\n"
   ]
  },
  {
   "cell_type": "code",
   "execution_count": null,
   "id": "ad33dcbb-17bc-44bc-823f-bea6c309d9d8",
   "metadata": {},
   "outputs": [],
   "source": [
    "#Question 5:\n",
    "Write a program that generates all possible combinations of two lists using nested loops."
   ]
  },
  {
   "cell_type": "code",
   "execution_count": 51,
   "id": "98af645b-b613-4512-b009-a89421a70ce4",
   "metadata": {},
   "outputs": [
    {
     "name": "stdout",
     "output_type": "stream",
     "text": [
      "All possible combinations of fruits and colors:\n",
      "('apple', 'red')\n",
      "('apple', 'yellow')\n",
      "('apple', 'blue')\n",
      "('banana', 'red')\n",
      "('banana', 'yellow')\n",
      "('banana', 'blue')\n",
      "('cherry', 'red')\n",
      "('cherry', 'yellow')\n",
      "('cherry', 'blue')\n"
     ]
    }
   ],
   "source": [
    "def generate_combinations(list1, list2):\n",
    "    combinations = []\n",
    "    for item1 in list1:\n",
    "        for item2 in list2:\n",
    "            combinations.append((item1, item2))\n",
    "    return combinations\n",
    "\n",
    "# Example usage:\n",
    "fruits = ['apple', 'banana', 'cherry']\n",
    "colors = ['red', 'yellow', 'blue']\n",
    "combinations = generate_combinations(fruits, colors)\n",
    "print(\"All possible combinations of fruits and colors:\")\n",
    "for combo in combinations:\n",
    "    print(combo)\n"
   ]
  },
  {
   "cell_type": "code",
   "execution_count": null,
   "id": "ba369970-22b5-4471-8a54-4f89b66a48f2",
   "metadata": {},
   "outputs": [],
   "source": [
    "********************************************************************************************************************************"
   ]
  },
  {
   "cell_type": "code",
   "execution_count": null,
   "id": "d1c56772-cb17-4d89-85e2-74e648009ae6",
   "metadata": {},
   "outputs": [],
   "source": []
  },
  {
   "cell_type": "markdown",
   "id": "5a480540-e4ed-4714-adbc-23f2774b454c",
   "metadata": {},
   "source": [
    "## IDENTITY OPERATORS ##"
   ]
  },
  {
   "cell_type": "code",
   "execution_count": null,
   "id": "9ebcd79e-d6aa-4c7e-b08f-149f8c9c9e62",
   "metadata": {},
   "outputs": [],
   "source": [
    "#Question 1:\n",
    "Checking Object Identity:"
   ]
  },
  {
   "cell_type": "code",
   "execution_count": 52,
   "id": "cc9286fb-6f4b-4cb9-a387-073ef6ff22fc",
   "metadata": {},
   "outputs": [
    {
     "name": "stdout",
     "output_type": "stream",
     "text": [
      "Result 1: a and b are the same object\n",
      "Result 2: a and b are different objects\n"
     ]
    }
   ],
   "source": [
    "def check_identity(a, b):\n",
    "    if a is b:\n",
    "        return \"a and b are the same object\"\n",
    "    else:\n",
    "        return \"a and b are different objects\"\n",
    "\n",
    "# Example usage:\n",
    "x = [1, 2, 3]\n",
    "y = x\n",
    "z = [1, 2, 3]\n",
    "\n",
    "result1 = check_identity(x, y)\n",
    "result2 = check_identity(x, z)\n",
    "\n",
    "print(f\"Result 1: {result1}\")\n",
    "print(f\"Result 2: {result2}\")\n"
   ]
  },
  {
   "cell_type": "code",
   "execution_count": null,
   "id": "80ed5912-c35d-4081-a23b-dd697c78bd2f",
   "metadata": {},
   "outputs": [],
   "source": [
    "#Question 2:\n",
    "Checking None Identity:"
   ]
  },
  {
   "cell_type": "code",
   "execution_count": 53,
   "id": "fd1fb19a-2ba8-41b3-8f88-0033e54963da",
   "metadata": {},
   "outputs": [
    {
     "name": "stdout",
     "output_type": "stream",
     "text": [
      "Result 1: value is None\n",
      "Result 2: value is not None\n"
     ]
    }
   ],
   "source": [
    "def check_none_identity(value):\n",
    "    if value is None:\n",
    "        return \"value is None\"\n",
    "    else:\n",
    "        return \"value is not None\"\n",
    "\n",
    "# Example usage:\n",
    "result1 = check_none_identity(None)\n",
    "result2 = check_none_identity(0)\n",
    "\n",
    "print(f\"Result 1: {result1}\")\n",
    "print(f\"Result 2: {result2}\")\n"
   ]
  },
  {
   "cell_type": "code",
   "execution_count": null,
   "id": "b9b930db-d0cb-4194-895c-471c39ab0f66",
   "metadata": {},
   "outputs": [],
   "source": [
    "#Question 3:\n",
    "Comparing Immutable Objects:"
   ]
  },
  {
   "cell_type": "code",
   "execution_count": 54,
   "id": "d0d0ac84-6fd3-4924-b1ea-eec723198a3e",
   "metadata": {},
   "outputs": [
    {
     "name": "stdout",
     "output_type": "stream",
     "text": [
      "Result 1: a and b are identical\n",
      "Result 2: a and b are different\n"
     ]
    }
   ],
   "source": [
    "def compare_immutable_objects(a, b):\n",
    "    if a is b:\n",
    "        return \"a and b are identical\"\n",
    "    elif a == b:\n",
    "        return \"a and b have the same value but are different objects\"\n",
    "    else:\n",
    "        return \"a and b are different\"\n",
    "\n",
    "# Example usage:\n",
    "a = 10\n",
    "b = 10\n",
    "c = 20\n",
    "\n",
    "result1 = compare_immutable_objects(a, b)\n",
    "result2 = compare_immutable_objects(a, c)\n",
    "\n",
    "print(f\"Result 1: {result1}\")\n",
    "print(f\"Result 2: {result2}\")\n"
   ]
  },
  {
   "cell_type": "code",
   "execution_count": null,
   "id": "3babd2bb-eeee-44b6-b7eb-1f6bcd983a82",
   "metadata": {},
   "outputs": [],
   "source": []
  },
  {
   "cell_type": "markdown",
   "id": "bfb075a7-67a4-4c6a-90ab-567a24c80b8b",
   "metadata": {},
   "source": [
    "## MEMBERSHIP OPERATORS ##"
   ]
  },
  {
   "cell_type": "code",
   "execution_count": null,
   "id": "e2a42c7f-eba1-4265-b5fb-8dd0bcc82539",
   "metadata": {},
   "outputs": [],
   "source": [
    "#Question 4:\n",
    "Checking Membership in Dictionaries:"
   ]
  },
  {
   "cell_type": "code",
   "execution_count": 55,
   "id": "3780f1df-eaf9-404a-87c6-35a385c79339",
   "metadata": {},
   "outputs": [
    {
     "name": "stdout",
     "output_type": "stream",
     "text": [
      "'age' is a key in the dictionary\n",
      "'gender' is not a key in the dictionary\n"
     ]
    }
   ],
   "source": [
    "def check_key_in_dict(dictionary, key):\n",
    "    if key in dictionary:\n",
    "        return f\"'{key}' is a key in the dictionary\"\n",
    "    else:\n",
    "        return f\"'{key}' is not a key in the dictionary\"\n",
    "\n",
    "# Example usage:\n",
    "person = {'name': 'Alice', 'age': 30, 'city': 'New York'}\n",
    "result1 = check_key_in_dict(person, 'age')\n",
    "result2 = check_key_in_dict(person, 'gender')\n",
    "\n",
    "print(result1)\n",
    "print(result2)\n"
   ]
  },
  {
   "cell_type": "code",
   "execution_count": null,
   "id": "130a41df-361e-4d3e-80a4-79a4e536b1db",
   "metadata": {},
   "outputs": [],
   "source": [
    "#Question 5:\n",
    "Membership with Iterables:"
   ]
  },
  {
   "cell_type": "code",
   "execution_count": 56,
   "id": "2718ceae-a66a-4d34-aa65-58afc6c3bca3",
   "metadata": {},
   "outputs": [
    {
     "name": "stdout",
     "output_type": "stream",
     "text": [
      "Python found in the iterable\n",
      "Java not found in the iterable\n"
     ]
    }
   ],
   "source": [
    "def find_item_in_iterable(iterable, item):\n",
    "    if item in iterable:\n",
    "        return f\"{item} found in the iterable\"\n",
    "    else:\n",
    "        return f\"{item} not found in the iterable\"\n",
    "\n",
    "# Example usage:\n",
    "sentence = \"Python is a powerful programming language\"\n",
    "result1 = find_item_in_iterable(sentence.split(), \"Python\")\n",
    "result2 = find_item_in_iterable(sentence.split(), \"Java\")\n",
    "\n",
    "print(result1)\n",
    "print(result2)\n"
   ]
  },
  {
   "cell_type": "code",
   "execution_count": null,
   "id": "27629cc1-92dc-40ed-a531-757e7491b284",
   "metadata": {},
   "outputs": [],
   "source": [
    "********************************************************************************************************************************"
   ]
  },
  {
   "cell_type": "code",
   "execution_count": null,
   "id": "9210aaf0-e5f8-493d-ae49-f5bf4feecb36",
   "metadata": {},
   "outputs": [],
   "source": []
  },
  {
   "cell_type": "markdown",
   "id": "4c79d122-3006-4294-9a5b-8ad913b7032f",
   "metadata": {},
   "source": [
    "## INDEXING ##"
   ]
  },
  {
   "cell_type": "code",
   "execution_count": null,
   "id": "12bc4008-97ee-450f-8876-05d289256b40",
   "metadata": {},
   "outputs": [],
   "source": [
    "#Question 1:\n",
    "Given the list numbers = [10, 20, 30, 40, 50], write Python code to print the first element of the list using indexing."
   ]
  },
  {
   "cell_type": "code",
   "execution_count": 57,
   "id": "de48ce9c-915a-4e18-913b-646fcdb70565",
   "metadata": {},
   "outputs": [
    {
     "name": "stdout",
     "output_type": "stream",
     "text": [
      "The first element of the list is: 10\n"
     ]
    }
   ],
   "source": [
    "numbers = [10, 20, 30, 40, 50]\n",
    "first_element = numbers[0]\n",
    "print(f\"The first element of the list is: {first_element}\")\n"
   ]
  },
  {
   "cell_type": "code",
   "execution_count": null,
   "id": "ffd2e516-9619-4b45-a700-9de615760606",
   "metadata": {},
   "outputs": [],
   "source": [
    "#Question 2:\n",
    "Create a function get_middle_element that takes a list as input and returns the middle element. If the list has an even number of elements, return the second element from the middle."
   ]
  },
  {
   "cell_type": "code",
   "execution_count": 58,
   "id": "27f639a3-9aa0-4fda-a196-eea266e887c6",
   "metadata": {},
   "outputs": [
    {
     "name": "stdout",
     "output_type": "stream",
     "text": [
      "The middle element(s) is/are: 20\n"
     ]
    }
   ],
   "source": [
    "def get_middle_element(input_list):\n",
    "    middle_index = len(input_list) // 2\n",
    "    if len(input_list) % 2 == 1:\n",
    "        return input_list[middle_index]\n",
    "    else:\n",
    "        return input_list[middle_index - 1]\n",
    "\n",
    "# Example usage:\n",
    "numbers = [10, 20, 30, 40]\n",
    "result = get_middle_element(numbers)\n",
    "print(f\"The middle element(s) is/are: {result}\")\n"
   ]
  },
  {
   "cell_type": "code",
   "execution_count": null,
   "id": "ad5df6df-a810-4225-b871-47d0151fed9d",
   "metadata": {},
   "outputs": [],
   "source": [
    "#Question 3:\n",
    "Given the string sentence = \"Python programming is fun!\", extract and print the substring 'programming' using slicing."
   ]
  },
  {
   "cell_type": "code",
   "execution_count": 59,
   "id": "b61b273e-0990-4fca-a12b-1d0a3b167f09",
   "metadata": {},
   "outputs": [
    {
     "name": "stdout",
     "output_type": "stream",
     "text": [
      "The substring 'programming' is: programming\n"
     ]
    }
   ],
   "source": [
    "sentence = \"Python programming is fun!\"\n",
    "substring = sentence[7:18]\n",
    "print(f\"The substring 'programming' is: {substring}\")\n"
   ]
  },
  {
   "cell_type": "code",
   "execution_count": null,
   "id": "503e8702-a354-4800-8171-0fb3eb8b27ca",
   "metadata": {},
   "outputs": [],
   "source": [
    "#Question 4:\n",
    "Write a function find_element that takes a list and an element as input, and returns the index of the first occurrence of the element in the list. If the element is not found, return -1."
   ]
  },
  {
   "cell_type": "code",
   "execution_count": 60,
   "id": "8b8180c2-aac6-4d6e-9008-20b71534a1ad",
   "metadata": {},
   "outputs": [
    {
     "name": "stdout",
     "output_type": "stream",
     "text": [
      "The index of 30 in the list is: 2\n"
     ]
    }
   ],
   "source": [
    "def find_element(input_list, element):\n",
    "    try:\n",
    "        index = input_list.index(element)\n",
    "        return index\n",
    "    except ValueError:\n",
    "        return -1\n",
    "\n",
    "# Example usage:\n",
    "numbers = [10, 20, 30, 40, 50]\n",
    "target = 30\n",
    "result = find_element(numbers, target)\n",
    "if result != -1:\n",
    "    print(f\"The index of {target} in the list is: {result}\")\n",
    "else:\n",
    "    print(f\"{target} is not found in the list.\")\n"
   ]
  },
  {
   "cell_type": "code",
   "execution_count": null,
   "id": "89ad6a51-edb4-4d70-9d75-3422d978c9f4",
   "metadata": {},
   "outputs": [],
   "source": [
    "#Question 5:\n",
    "Given the nested list matrix = [[1, 2, 3], [4, 5, 6], [7, 8, 9]], print the element at the position (2, 1)."
   ]
  },
  {
   "cell_type": "code",
   "execution_count": 61,
   "id": "57bd60ea-497c-41cb-a967-d8483fe1d36b",
   "metadata": {},
   "outputs": [
    {
     "name": "stdout",
     "output_type": "stream",
     "text": [
      "The element at position (2, 1) is: 8\n"
     ]
    }
   ],
   "source": [
    "matrix = [[1, 2, 3], [4, 5, 6], [7, 8, 9]]\n",
    "element = matrix[2][1]\n",
    "print(f\"The element at position (2, 1) is: {element}\")\n"
   ]
  },
  {
   "cell_type": "code",
   "execution_count": null,
   "id": "f6ed06bb-730e-4b2e-82bf-3695dd1a2584",
   "metadata": {},
   "outputs": [],
   "source": [
    "*****************************************************************************************************************************************************"
   ]
  },
  {
   "cell_type": "code",
   "execution_count": null,
   "id": "44803259-d394-4c9a-a9f1-ffd55e3c3ca2",
   "metadata": {},
   "outputs": [],
   "source": []
  },
  {
   "cell_type": "markdown",
   "id": "ec16bffb-9adc-47d4-adbe-95e67362440c",
   "metadata": {},
   "source": [
    "## SLICING ###"
   ]
  },
  {
   "cell_type": "code",
   "execution_count": null,
   "id": "c2b2adad-3953-4af8-b2a8-a579207a807d",
   "metadata": {},
   "outputs": [],
   "source": [
    "#Question 1:\n",
    "Given the list numbers = [1, 2, 3, 4, 5, 6, 7, 8, 9, 10], slice the list to extract elements from index 2 to index 6 inclusive."
   ]
  },
  {
   "cell_type": "code",
   "execution_count": 62,
   "id": "2cde2453-0413-49ed-997b-8ea08f767d6a",
   "metadata": {},
   "outputs": [
    {
     "name": "stdout",
     "output_type": "stream",
     "text": [
      "The sliced list is: [3, 4, 5, 6, 7]\n"
     ]
    }
   ],
   "source": [
    "numbers = [1, 2, 3, 4, 5, 6, 7, 8, 9, 10]\n",
    "sliced_list = numbers[2:7]\n",
    "print(f\"The sliced list is: {sliced_list}\")\n"
   ]
  },
  {
   "cell_type": "code",
   "execution_count": null,
   "id": "11a9801f-1329-44d0-b9eb-cf4af1d864f8",
   "metadata": {},
   "outputs": [],
   "source": [
    "#Question 2 :\n",
    "Create a function get_last_n_elements that takes a list and an integer n as input, and returns the last n elements of the list."
   ]
  },
  {
   "cell_type": "code",
   "execution_count": 63,
   "id": "317e8fb6-22f9-4914-b503-3c559dfdf2b0",
   "metadata": {},
   "outputs": [
    {
     "name": "stdout",
     "output_type": "stream",
     "text": [
      "The last 3 elements are: [40, 50, 60]\n"
     ]
    }
   ],
   "source": [
    "def get_last_n_elements(input_list, n):\n",
    "    return input_list[-n:]\n",
    "\n",
    "# Example usage:\n",
    "numbers = [10, 20, 30, 40, 50, 60]\n",
    "result = get_last_n_elements(numbers, 3)\n",
    "print(f\"The last 3 elements are: {result}\")\n"
   ]
  },
  {
   "cell_type": "code",
   "execution_count": null,
   "id": "14fce776-8899-43ad-812d-55e2abfb541d",
   "metadata": {},
   "outputs": [],
   "source": [
    "#Question 3 :\n",
    "Given the string text = \"Python is awesome!\", slice the string to extract the substring 'is awesome'."
   ]
  },
  {
   "cell_type": "code",
   "execution_count": 64,
   "id": "773d54d8-985a-4e9a-8a38-6a0510fce544",
   "metadata": {},
   "outputs": [
    {
     "name": "stdout",
     "output_type": "stream",
     "text": [
      "The sliced substring is: is awesome!\n"
     ]
    }
   ],
   "source": [
    "text = \"Python is awesome!\"\n",
    "substring = text[7:]\n",
    "print(f\"The sliced substring is: {substring}\")\n"
   ]
  },
  {
   "cell_type": "code",
   "execution_count": null,
   "id": "b87bcce7-f616-47ee-8b34-50afcb28aac6",
   "metadata": {},
   "outputs": [],
   "source": [
    "#Question 4:\n",
    "Write a function get_even_indices that takes a list as input and returns a new list containing elements at even indices."
   ]
  },
  {
   "cell_type": "code",
   "execution_count": 65,
   "id": "b00b5603-0640-4f0d-9cdd-3a19d2948cb1",
   "metadata": {},
   "outputs": [
    {
     "name": "stdout",
     "output_type": "stream",
     "text": [
      "Elements at even indices are: [1, 3, 5, 7, 9]\n"
     ]
    }
   ],
   "source": [
    "def get_even_indices(input_list):\n",
    "    return input_list[::2]\n",
    "\n",
    "# Example usage:\n",
    "numbers = [1, 2, 3, 4, 5, 6, 7, 8, 9, 10]\n",
    "result = get_even_indices(numbers)\n",
    "print(f\"Elements at even indices are: {result}\")\n"
   ]
  },
  {
   "cell_type": "code",
   "execution_count": null,
   "id": "69801fb1-ff5d-460a-b62a-dc57ed86bbf3",
   "metadata": {},
   "outputs": [],
   "source": [
    "#Question 5:\n",
    "Given the nested list matrix = [[1, 2, 3], [4, 5, 6], [7, 8, 9]], slice the list to extract the middle row [4, 5, 6]."
   ]
  },
  {
   "cell_type": "code",
   "execution_count": 66,
   "id": "f51955ea-62da-43c8-8524-e0c5381652fd",
   "metadata": {},
   "outputs": [
    {
     "name": "stdout",
     "output_type": "stream",
     "text": [
      "The middle row is: [4, 5, 6]\n"
     ]
    }
   ],
   "source": [
    "matrix = [[1, 2, 3], [4, 5, 6], [7, 8, 9]]\n",
    "middle_row = matrix[1]\n",
    "print(f\"The middle row is: {middle_row}\")\n"
   ]
  },
  {
   "cell_type": "code",
   "execution_count": null,
   "id": "27274089-1495-48d4-a343-9a67b126f3de",
   "metadata": {},
   "outputs": [],
   "source": [
    "***************************************************************************************************************************************************"
   ]
  },
  {
   "cell_type": "code",
   "execution_count": null,
   "id": "5609a871-89b4-4d20-9cfc-6372bb32dcf7",
   "metadata": {},
   "outputs": [],
   "source": []
  },
  {
   "cell_type": "markdown",
   "id": "981b8eeb-9f9c-46aa-8f8c-6599433e3548",
   "metadata": {},
   "source": [
    "## UDF ####"
   ]
  },
  {
   "cell_type": "code",
   "execution_count": null,
   "id": "bcfc5a68-c9b5-48e7-8983-b63e979c9317",
   "metadata": {},
   "outputs": [],
   "source": [
    "#Question 1: \n",
    ".You have to take a string as an input and crate a UDF to get a reversed string. \n",
    "# 'Elephant' 'tnahpelE'"
   ]
  },
  {
   "cell_type": "code",
   "execution_count": 70,
   "id": "583f332f-c030-473d-a498-2b173e22df02",
   "metadata": {},
   "outputs": [
    {
     "name": "stdin",
     "output_type": "stream",
     "text": [
      "Enter a string :  Elephant\n"
     ]
    },
    {
     "name": "stdout",
     "output_type": "stream",
     "text": [
      "The Reverse String is  tnahpelE\n"
     ]
    }
   ],
   "source": [
    " string = input('Enter a string : ')\n",
    "\n",
    "\n",
    " def str_rev (data):\n",
    "\n",
    "    return data[::-1]\n",
    "\n",
    " reverse = str_rev(string)\n",
    "\n",
    " print ('The Reverse String is ', reverse)\n"
   ]
  },
  {
   "cell_type": "code",
   "execution_count": null,
   "id": "198e9440-d9b3-4419-b1db-6655c5f9042f",
   "metadata": {},
   "outputs": [],
   "source": [
    "#Question 2\n",
    "Write a function find_max that takes three numbers as arguments and returns the maximum of the three."
   ]
  },
  {
   "cell_type": "code",
   "execution_count": 75,
   "id": "41dc71f9-c5d2-4a1b-a7af-e822e02c5f28",
   "metadata": {},
   "outputs": [
    {
     "name": "stdout",
     "output_type": "stream",
     "text": [
      "The average of the numbers is: 30.0\n"
     ]
    }
   ],
   "source": [
    "def calculate_average(numbers):\n",
    "    if not numbers:\n",
    "        return 0  # Handle case where list is empty\n",
    "    return sum(numbers) / len(numbers)\n",
    "\n",
    "# Example usage:\n",
    "numbers = [10, 20, 30, 40, 50]\n",
    "average = calculate_average(numbers)\n",
    "print(f\"The average of the numbers is: {average}\")\n"
   ]
  },
  {
   "cell_type": "code",
   "execution_count": null,
   "id": "e0767c41-b381-4b01-9634-5bbff177c810",
   "metadata": {},
   "outputs": [],
   "source": [
    "#Question 3:\n",
    "Write a function reverse_string that takes a string as input and returns the reverse of the string."
   ]
  },
  {
   "cell_type": "code",
   "execution_count": 76,
   "id": "1210d4ea-7281-4204-88b4-3ef5776f07ff",
   "metadata": {},
   "outputs": [
    {
     "name": "stdout",
     "output_type": "stream",
     "text": [
      "The reversed string is: nohtyP\n"
     ]
    }
   ],
   "source": [
    "def reverse_string(input_string):\n",
    "    return input_string[::-1]\n",
    "\n",
    "# Example usage:\n",
    "text = \"Python\"\n",
    "reversed_text = reverse_string(text)\n",
    "print(f\"The reversed string is: {reversed_text}\")\n"
   ]
  },
  {
   "cell_type": "code",
   "execution_count": null,
   "id": "ce9077d7-0da4-4595-ad21-36a824988eb4",
   "metadata": {},
   "outputs": [],
   "source": [
    "#Question 4:\n",
    "Create a function count_vowels that takes a string as input and returns the number of vowels (a, e, i, o, u) in the string."
   ]
  },
  {
   "cell_type": "code",
   "execution_count": 77,
   "id": "1f20df3f-ee6e-4ddf-bac4-3b39dcbfff9f",
   "metadata": {},
   "outputs": [
    {
     "name": "stdout",
     "output_type": "stream",
     "text": [
      "The number of vowels in the text is: 3\n"
     ]
    }
   ],
   "source": [
    "def count_vowels(input_string):\n",
    "    vowels = \"aeiouAEIOU\"\n",
    "    return sum(1 for char in input_string if char in vowels)\n",
    "\n",
    "# Example usage:\n",
    "text = \"Hello, World!\"\n",
    "vowel_count = count_vowels(text)\n",
    "print(f\"The number of vowels in the text is: {vowel_count}\")\n"
   ]
  },
  {
   "cell_type": "code",
   "execution_count": null,
   "id": "7790d391-13d5-4389-b422-badd55338c1c",
   "metadata": {},
   "outputs": [],
   "source": [
    "#Question 5:\n",
    "Write a function check_palindrome that takes a string as input and returns True if the string is a palindrome (reads the same forwards and backwards), otherwise False."
   ]
  },
  {
   "cell_type": "code",
   "execution_count": 78,
   "id": "fa085fa7-7e0c-4b3b-89f4-12df16980fa5",
   "metadata": {},
   "outputs": [
    {
     "name": "stdout",
     "output_type": "stream",
     "text": [
      "Is 'radar' a palindrome? True\n",
      "Is 'python' a palindrome? False\n"
     ]
    }
   ],
   "source": [
    "def check_palindrome(input_string):\n",
    "    return input_string == input_string[::-1]\n",
    "\n",
    "# Example usage:\n",
    "text1 = \"radar\"\n",
    "text2 = \"python\"\n",
    "result1 = check_palindrome(text1)\n",
    "result2 = check_palindrome(text2)\n",
    "print(f\"Is '{text1}' a palindrome? {result1}\")\n",
    "print(f\"Is '{text2}' a palindrome? {result2}\")\n"
   ]
  },
  {
   "cell_type": "code",
   "execution_count": null,
   "id": "793cb029-1012-4a62-a945-af2d3e34ea33",
   "metadata": {},
   "outputs": [],
   "source": [
    "*******************************************************************************************************************************************************"
   ]
  },
  {
   "cell_type": "markdown",
   "id": "baac82d4-c187-4e6f-964e-0ec3a3edf7ed",
   "metadata": {},
   "source": [
    "## LAMBDA FUNCTION#####"
   ]
  },
  {
   "cell_type": "code",
   "execution_count": null,
   "id": "08390d88-463a-4c8c-b8d3-6e039bb83785",
   "metadata": {},
   "outputs": [],
   "source": [
    "#Question 1 :\n",
    "Write a lambda function to calculate the square of a number."
   ]
  },
  {
   "cell_type": "code",
   "execution_count": 79,
   "id": "fcf20461-c02f-427f-ac12-791d58c19b3c",
   "metadata": {},
   "outputs": [
    {
     "name": "stdout",
     "output_type": "stream",
     "text": [
      "The square of 5 is: 25\n"
     ]
    }
   ],
   "source": [
    "square = lambda x: x ** 2\n",
    "\n",
    "# Example usage:\n",
    "num = 5\n",
    "result = square(num)\n",
    "print(f\"The square of {num} is: {result}\")\n"
   ]
  },
  {
   "cell_type": "code",
   "execution_count": null,
   "id": "851a1545-822e-4edb-ad5b-493b9c826683",
   "metadata": {},
   "outputs": [],
   "source": [
    "#Question 2:\n",
    "Write a lambda function to check if a given number is even."
   ]
  },
  {
   "cell_type": "code",
   "execution_count": 80,
   "id": "ec391285-4e32-45b0-aa21-2bf8eeb6f002",
   "metadata": {},
   "outputs": [
    {
     "name": "stdout",
     "output_type": "stream",
     "text": [
      "10 is even? True\n",
      "15 is even? False\n"
     ]
    }
   ],
   "source": [
    "is_even = lambda x: x % 2 == 0\n",
    "\n",
    "# Example usage:\n",
    "num1 = 10\n",
    "num2 = 15\n",
    "result1 = is_even(num1)\n",
    "result2 = is_even(num2)\n",
    "print(f\"{num1} is even? {result1}\")\n",
    "print(f\"{num2} is even? {result2}\")\n"
   ]
  },
  {
   "cell_type": "code",
   "execution_count": null,
   "id": "b74a8c64-f0c5-4a17-8817-bf887cbef5bc",
   "metadata": {},
   "outputs": [],
   "source": [
    "#Question 3:\n",
    "Use a lambda function with filter() to filter out even numbers from a list."
   ]
  },
  {
   "cell_type": "code",
   "execution_count": 81,
   "id": "b7663280-540d-4488-aa7e-67d1376d7958",
   "metadata": {},
   "outputs": [
    {
     "name": "stdout",
     "output_type": "stream",
     "text": [
      "Even numbers:\n",
      "[2, 4, 6, 8, 10]\n"
     ]
    }
   ],
   "source": [
    "numbers = [1, 2, 3, 4, 5, 6, 7, 8, 9, 10]\n",
    "even_numbers = list(filter(lambda x: x % 2 == 0, numbers))\n",
    "\n",
    "print(\"Even numbers:\")\n",
    "print(even_numbers)\n"
   ]
  },
  {
   "cell_type": "code",
   "execution_count": null,
   "id": "eb3654f4-8d7b-4fbc-a77b-142d4816a05a",
   "metadata": {},
   "outputs": [],
   "source": [
    "#Question 4\n",
    "Write a lambda function to sort a list of tuples based on the second element of each tuple."
   ]
  },
  {
   "cell_type": "code",
   "execution_count": 82,
   "id": "73382daf-c1f1-4764-9c8c-cc3bd003582a",
   "metadata": {},
   "outputs": [
    {
     "name": "stdout",
     "output_type": "stream",
     "text": [
      "Sorted tuples based on the second element:\n",
      "[(4, 1), (3, 2), (1, 5), (2, 8)]\n"
     ]
    }
   ],
   "source": [
    "tuples_list = [(1, 5), (3, 2), (2, 8), (4, 1)]\n",
    "sorted_tuples = sorted(tuples_list, key=lambda x: x[1])\n",
    "\n",
    "print(\"Sorted tuples based on the second element:\")\n",
    "print(sorted_tuples)\n"
   ]
  },
  {
   "cell_type": "code",
   "execution_count": null,
   "id": "5ca2b772-6845-445c-a3c6-f0c10e52d961",
   "metadata": {},
   "outputs": [],
   "source": [
    "#Question 5\n",
    "Use a lambda function with map() to convert a list of strings to uppercase."
   ]
  },
  {
   "cell_type": "code",
   "execution_count": 83,
   "id": "8e894142-1062-47f0-a44b-2cd9e098abb5",
   "metadata": {},
   "outputs": [
    {
     "name": "stdout",
     "output_type": "stream",
     "text": [
      "Uppercase words:\n",
      "['APPLE', 'BANANA', 'CHERRY']\n"
     ]
    }
   ],
   "source": [
    "words = [\"apple\", \"banana\", \"cherry\"]\n",
    "uppercase_words = list(map(lambda x: x.upper(), words))\n",
    "\n",
    "print(\"Uppercase words:\")\n",
    "print(uppercase_words)\n"
   ]
  },
  {
   "cell_type": "code",
   "execution_count": null,
   "id": "80792a4e-38d0-42ec-b3c5-9a7f05f0dcda",
   "metadata": {},
   "outputs": [],
   "source": [
    "#Question 6:\n",
    "Write a lambda function to check if a given string starts with a vowel."
   ]
  },
  {
   "cell_type": "code",
   "execution_count": 84,
   "id": "b2671d11-ae82-4098-99b5-aead3b43bfe0",
   "metadata": {},
   "outputs": [
    {
     "name": "stdout",
     "output_type": "stream",
     "text": [
      "Does 'Apple' start with a vowel? True\n",
      "Does 'Orange' start with a vowel? True\n"
     ]
    }
   ],
   "source": [
    "starts_with_vowel = lambda x: x[0].lower() in 'aeiou'\n",
    "\n",
    "# Example usage:\n",
    "word1 = \"Apple\"\n",
    "word2 = \"Orange\"\n",
    "result1 = starts_with_vowel(word1)\n",
    "result2 = starts_with_vowel(word2)\n",
    "print(f\"Does '{word1}' start with a vowel? {result1}\")\n",
    "print(f\"Does '{word2}' start with a vowel? {result2}\")\n"
   ]
  },
  {
   "cell_type": "code",
   "execution_count": null,
   "id": "c452b6c3-c26c-458c-adad-a167febc4db7",
   "metadata": {},
   "outputs": [],
   "source": [
    "#Question 7\n",
    "Use a lambda function with sorted() to sort a list of strings based on their lengths."
   ]
  },
  {
   "cell_type": "code",
   "execution_count": 85,
   "id": "a451fe9b-986f-4728-ae1d-03ce08152ab2",
   "metadata": {},
   "outputs": [
    {
     "name": "stdout",
     "output_type": "stream",
     "text": [
      "Sorted words by length:\n",
      "['pear', 'apple', 'orange', 'banana']\n"
     ]
    }
   ],
   "source": [
    "words = [\"pear\", \"orange\", \"banana\", \"apple\"]\n",
    "sorted_words_by_length = sorted(words, key=lambda x: len(x))\n",
    "\n",
    "print(\"Sorted words by length:\")\n",
    "print(sorted_words_by_length)\n"
   ]
  },
  {
   "cell_type": "code",
   "execution_count": null,
   "id": "f7e9fc42-88ef-4581-a97d-a79ef1b6c853",
   "metadata": {},
   "outputs": [],
   "source": [
    "#Question 8\n",
    "Write a lambda function to extract the last word from a sentence."
   ]
  },
  {
   "cell_type": "code",
   "execution_count": 86,
   "id": "7c210c2c-554e-4269-8fd1-ef03590cfefb",
   "metadata": {},
   "outputs": [
    {
     "name": "stdout",
     "output_type": "stream",
     "text": [
      "The last word in the sentence is: language\n"
     ]
    }
   ],
   "source": [
    "extract_last_word = lambda sentence: sentence.split()[-1]\n",
    "\n",
    "# Example usage:\n",
    "text = \"Python is an amazing language\"\n",
    "last_word = extract_last_word(text)\n",
    "print(f\"The last word in the sentence is: {last_word}\")\n"
   ]
  },
  {
   "cell_type": "code",
   "execution_count": null,
   "id": "02d440ac-b192-4433-9595-9da9452192ae",
   "metadata": {},
   "outputs": [],
   "source": [
    "*******************************************************************************************************************************************************"
   ]
  },
  {
   "cell_type": "markdown",
   "id": "8ca7cf3c-1162-4d06-aadc-7dcf59332de6",
   "metadata": {},
   "source": [
    "                       ##### THE END #####"
   ]
  },
  {
   "cell_type": "code",
   "execution_count": null,
   "id": "5011215d-9678-4f5f-acc4-8b8f3719d5a3",
   "metadata": {},
   "outputs": [],
   "source": []
  },
  {
   "cell_type": "code",
   "execution_count": null,
   "id": "24caeee9-40eb-4aa7-be5b-d9e586209656",
   "metadata": {},
   "outputs": [],
   "source": []
  },
  {
   "cell_type": "code",
   "execution_count": null,
   "id": "638548af-774b-4768-bbcf-9546a6ad5954",
   "metadata": {},
   "outputs": [],
   "source": []
  },
  {
   "cell_type": "code",
   "execution_count": null,
   "id": "6441fc29-07fe-4928-8d4b-a173fcc9e21d",
   "metadata": {},
   "outputs": [],
   "source": []
  },
  {
   "cell_type": "code",
   "execution_count": null,
   "id": "fcce3e28-3808-417e-83f1-651ff0cae7ab",
   "metadata": {},
   "outputs": [],
   "source": []
  },
  {
   "cell_type": "code",
   "execution_count": null,
   "id": "fbcb1afa-81eb-4f44-ac10-e909f5af27fd",
   "metadata": {},
   "outputs": [],
   "source": []
  },
  {
   "cell_type": "code",
   "execution_count": null,
   "id": "5dbf1294-c477-427f-bf12-e4e6869832ce",
   "metadata": {},
   "outputs": [],
   "source": []
  },
  {
   "cell_type": "code",
   "execution_count": null,
   "id": "99d1eb89-1a35-4c01-bb81-d3fc2d90cb4a",
   "metadata": {},
   "outputs": [],
   "source": []
  },
  {
   "cell_type": "code",
   "execution_count": null,
   "id": "b86d8600-0028-485a-80dc-02361f009f07",
   "metadata": {},
   "outputs": [],
   "source": []
  },
  {
   "cell_type": "code",
   "execution_count": null,
   "id": "885450bc-6efb-4132-833d-04321464887f",
   "metadata": {},
   "outputs": [],
   "source": []
  },
  {
   "cell_type": "code",
   "execution_count": null,
   "id": "790754ed-8d55-4619-8704-8afe67bc4667",
   "metadata": {},
   "outputs": [],
   "source": []
  },
  {
   "cell_type": "code",
   "execution_count": null,
   "id": "447bf612-86b3-40e8-9079-2182db7644ac",
   "metadata": {},
   "outputs": [],
   "source": []
  },
  {
   "cell_type": "code",
   "execution_count": null,
   "id": "f73ca2c5-85d4-445c-8673-72b5fbdbe204",
   "metadata": {},
   "outputs": [],
   "source": []
  },
  {
   "cell_type": "code",
   "execution_count": null,
   "id": "a5cb4fdd-fe37-4e9c-9f5e-4b5162e59b33",
   "metadata": {},
   "outputs": [],
   "source": []
  },
  {
   "cell_type": "code",
   "execution_count": null,
   "id": "660b41e2-34e7-4979-bf39-9feb73bd7b9a",
   "metadata": {},
   "outputs": [],
   "source": []
  },
  {
   "cell_type": "code",
   "execution_count": null,
   "id": "498a1c06-ab99-4b4e-8f4f-d621027a1d96",
   "metadata": {},
   "outputs": [],
   "source": []
  },
  {
   "cell_type": "code",
   "execution_count": null,
   "id": "6a81af0e-306a-49f0-acb1-45956a190a04",
   "metadata": {},
   "outputs": [],
   "source": []
  },
  {
   "cell_type": "code",
   "execution_count": null,
   "id": "31c90af0-d62b-462d-9785-720307c3b5a0",
   "metadata": {},
   "outputs": [],
   "source": []
  },
  {
   "cell_type": "code",
   "execution_count": null,
   "id": "5bb731b5-5cc3-40e6-a6f2-f95acc4a52b4",
   "metadata": {},
   "outputs": [],
   "source": []
  },
  {
   "cell_type": "code",
   "execution_count": null,
   "id": "d24de14e-c7dc-4eff-a551-66a9d6f00f5b",
   "metadata": {},
   "outputs": [],
   "source": []
  },
  {
   "cell_type": "code",
   "execution_count": null,
   "id": "ee9c54de-5b84-4925-984d-61776787e04b",
   "metadata": {},
   "outputs": [],
   "source": []
  },
  {
   "cell_type": "code",
   "execution_count": null,
   "id": "6d344bc2-b11e-4794-bfdc-5324e6ca79c2",
   "metadata": {},
   "outputs": [],
   "source": []
  },
  {
   "cell_type": "code",
   "execution_count": null,
   "id": "a58e6700-c2cd-4bbf-baff-9a91d8eb27c9",
   "metadata": {},
   "outputs": [],
   "source": []
  },
  {
   "cell_type": "code",
   "execution_count": null,
   "id": "2557aff0-7d92-4d2b-bd4d-9e21ad6fcceb",
   "metadata": {},
   "outputs": [],
   "source": []
  },
  {
   "cell_type": "code",
   "execution_count": null,
   "id": "0372eb7a-15ef-4328-a78e-5fefc37ba2f3",
   "metadata": {},
   "outputs": [],
   "source": []
  },
  {
   "cell_type": "code",
   "execution_count": null,
   "id": "89d2f05c-6fbc-4eff-8203-9ec98292b89e",
   "metadata": {},
   "outputs": [],
   "source": []
  },
  {
   "cell_type": "code",
   "execution_count": null,
   "id": "2ae19816-7d0c-49e2-af13-881cce41375c",
   "metadata": {},
   "outputs": [],
   "source": []
  },
  {
   "cell_type": "code",
   "execution_count": null,
   "id": "9e70674b-c7be-4c5f-9de6-c02c56c20ee9",
   "metadata": {},
   "outputs": [],
   "source": []
  },
  {
   "cell_type": "code",
   "execution_count": null,
   "id": "29c0a950-ce69-4f91-bc75-69a71e01186f",
   "metadata": {},
   "outputs": [],
   "source": []
  },
  {
   "cell_type": "code",
   "execution_count": null,
   "id": "f32981c6-d9d6-4dfe-9151-ce51fec6bc1e",
   "metadata": {},
   "outputs": [],
   "source": []
  },
  {
   "cell_type": "code",
   "execution_count": null,
   "id": "929ae156-204e-4b81-b2b5-df09cda65c11",
   "metadata": {},
   "outputs": [],
   "source": []
  },
  {
   "cell_type": "code",
   "execution_count": null,
   "id": "de65235f-ee5e-4158-8400-2a4fac754b53",
   "metadata": {},
   "outputs": [],
   "source": []
  },
  {
   "cell_type": "code",
   "execution_count": null,
   "id": "487813e3-aa51-4c35-bb2d-eb06f558aecc",
   "metadata": {},
   "outputs": [],
   "source": []
  },
  {
   "cell_type": "code",
   "execution_count": null,
   "id": "ec0ed969-de68-4109-b890-d4efa45d7272",
   "metadata": {},
   "outputs": [],
   "source": []
  },
  {
   "cell_type": "code",
   "execution_count": null,
   "id": "fb82a9a5-3bce-4bcf-b068-75eb22bdc94d",
   "metadata": {},
   "outputs": [],
   "source": []
  },
  {
   "cell_type": "code",
   "execution_count": null,
   "id": "8fe41920-ae5f-4040-969f-dac08b555357",
   "metadata": {},
   "outputs": [],
   "source": []
  },
  {
   "cell_type": "code",
   "execution_count": null,
   "id": "4401a685-90da-45bf-b200-b4de01cb8ad8",
   "metadata": {},
   "outputs": [],
   "source": []
  },
  {
   "cell_type": "code",
   "execution_count": null,
   "id": "87479d2c-5080-4b7c-a14d-f6c18abd7ff9",
   "metadata": {},
   "outputs": [],
   "source": []
  }
 ],
 "metadata": {
  "kernelspec": {
   "display_name": "Python 3 (ipykernel)",
   "language": "python",
   "name": "python3"
  },
  "language_info": {
   "codemirror_mode": {
    "name": "ipython",
    "version": 3
   },
   "file_extension": ".py",
   "mimetype": "text/x-python",
   "name": "python",
   "nbconvert_exporter": "python",
   "pygments_lexer": "ipython3",
   "version": "3.11.7"
  }
 },
 "nbformat": 4,
 "nbformat_minor": 5
}
